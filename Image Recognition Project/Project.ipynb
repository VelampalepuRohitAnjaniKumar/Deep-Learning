{
 "cells": [
  {
   "cell_type": "code",
   "execution_count": 7,
   "metadata": {},
   "outputs": [],
   "source": [
    "import numpy as np\n",
    "import pandas as pd\n",
    "import matplotlib.pyplot as plt"
   ]
  },
  {
   "cell_type": "code",
   "execution_count": 8,
   "metadata": {},
   "outputs": [],
   "source": [
    "import tensorflow as tf\n",
    "from tensorflow import keras"
   ]
  },
  {
   "attachments": {},
   "cell_type": "markdown",
   "metadata": {},
   "source": [
    "### Importing Data"
   ]
  },
  {
   "cell_type": "code",
   "execution_count": 12,
   "metadata": {},
   "outputs": [],
   "source": [
    "train_dir=r'D:\\Internshala Videos\\Deep Learning\\Internshala ipynb\\IR Project Data\\Data\\cats_and_dogs\\train'\n",
    "test_dir=r'D:\\Internshala Videos\\Deep Learning\\Internshala ipynb\\IR Project Data\\Data\\cats_and_dogs\\test'\n",
    "validation_dir=r'D:\\Internshala Videos\\Deep Learning\\Internshala ipynb\\IR Project Data\\Data\\cats_and_dogs\\validation'"
   ]
  },
  {
   "attachments": {},
   "cell_type": "markdown",
   "metadata": {},
   "source": [
    "### Data Preprocessing"
   ]
  },
  {
   "attachments": {},
   "cell_type": "markdown",
   "metadata": {},
   "source": [
    " Read the Picture Files"
   ]
  },
  {
   "attachments": {},
   "cell_type": "markdown",
   "metadata": {},
   "source": [
    "Decode the JPEG content to RBG grids of pixels"
   ]
  },
  {
   "attachments": {},
   "cell_type": "markdown",
   "metadata": {},
   "source": [
    "Convert these into floating point tensors"
   ]
  },
  {
   "attachments": {},
   "cell_type": "markdown",
   "metadata": {},
   "source": [
    "Rescale the pixel values(0,255) to the [0,1] interval"
   ]
  },
  {
   "cell_type": "code",
   "execution_count": 10,
   "metadata": {},
   "outputs": [],
   "source": [
    "from tensorflow.keras.preprocessing.image import ImageDataGenerator"
   ]
  },
  {
   "cell_type": "code",
   "execution_count": 14,
   "metadata": {},
   "outputs": [
    {
     "name": "stdout",
     "output_type": "stream",
     "text": [
      "Found 2000 images belonging to 2 classes.\n",
      "Found 1000 images belonging to 2 classes.\n"
     ]
    }
   ],
   "source": [
    "#generating Batches of tensor image data\n",
    "\n",
    "train_datagen=ImageDataGenerator(rescale=1./255)\n",
    "test_datagen=ImageDataGenerator(rescale=1./255)\n",
    "\n",
    "train_generator=train_datagen.flow_from_directory(\n",
    "    train_dir,      # go to train data folder in the directory\n",
    "    target_size=(150,150),   #Reshaping size into 150 x 150 pixels\n",
    "    batch_size=20,           #Data Stores as 20 batches\n",
    "    class_mode='binary'\n",
    ")\n",
    "\n",
    "validation_generator=test_datagen.flow_from_directory(\n",
    "    validation_dir,   #go to validation folder in the directory\n",
    "    target_size=(150,150),   #Reshaping size into 150 x 150 pixels\n",
    "    batch_size=20,           #Data Stores as 20  batches\n",
    "    class_mode='binary'\n",
    ")"
   ]
  },
  {
   "attachments": {},
   "cell_type": "markdown",
   "metadata": {},
   "source": [
    "### Model "
   ]
  },
  {
   "cell_type": "code",
   "execution_count": 16,
   "metadata": {},
   "outputs": [],
   "source": [
    "from tensorflow.keras import layers\n",
    "from tensorflow.keras import models"
   ]
  },
  {
   "cell_type": "code",
   "execution_count": 19,
   "metadata": {},
   "outputs": [],
   "source": [
    "model=models.Sequential()\n",
    "\n",
    " #layer 1\n",
    "model.add(layers.Conv2D(32,(3,3),activation='relu',input_shape=(150,150,3)))  #(filters,window,activation,input_shape)\n",
    "model.add(layers.MaxPooling2D((2,2)))\n",
    "\n",
    "\n",
    "# layer2\n",
    "model.add(layers.Conv2D(64,(3,3),activation='relu'))\n",
    "model.add(layers.MaxPool2D(2,2))\n",
    "\n",
    "\n",
    "#layer 3\n",
    "model.add(layers.Conv2D(128,(3,3),activation='relu'))\n",
    "model.add(layers.MaxPool2D(2,2))\n",
    "\n",
    "#layer 4\n",
    "model.add(layers.Conv2D(128,(3,3),activation='relu'))\n",
    "model.add(layers.MaxPool2D(2,2))\n",
    "\n",
    "\n",
    "#layer 5\n",
    "\n",
    "model.add(layers.Flatten())\n",
    "\n",
    "#layer 6\n",
    "model.add(layers.Dense(512,activation='relu'))   #(neruons,activation)\n",
    "\n",
    " #output layer\n",
    "\n",
    "model.add(layers.Dense(1,activation='sigmoid'))\n",
    "\n"
   ]
  },
  {
   "cell_type": "code",
   "execution_count": 20,
   "metadata": {},
   "outputs": [
    {
     "name": "stdout",
     "output_type": "stream",
     "text": [
      "Model: \"sequential_2\"\n",
      "_________________________________________________________________\n",
      " Layer (type)                Output Shape              Param #   \n",
      "=================================================================\n",
      " conv2d (Conv2D)             (None, 148, 148, 32)      896       \n",
      "                                                                 \n",
      " max_pooling2d (MaxPooling2D  (None, 74, 74, 32)       0         \n",
      " )                                                               \n",
      "                                                                 \n",
      " conv2d_1 (Conv2D)           (None, 72, 72, 64)        18496     \n",
      "                                                                 \n",
      " max_pooling2d_1 (MaxPooling  (None, 36, 36, 64)       0         \n",
      " 2D)                                                             \n",
      "                                                                 \n",
      " conv2d_2 (Conv2D)           (None, 34, 34, 128)       73856     \n",
      "                                                                 \n",
      " max_pooling2d_2 (MaxPooling  (None, 17, 17, 128)      0         \n",
      " 2D)                                                             \n",
      "                                                                 \n",
      " conv2d_3 (Conv2D)           (None, 15, 15, 128)       147584    \n",
      "                                                                 \n",
      " max_pooling2d_3 (MaxPooling  (None, 7, 7, 128)        0         \n",
      " 2D)                                                             \n",
      "                                                                 \n",
      " flatten (Flatten)           (None, 6272)              0         \n",
      "                                                                 \n",
      " dense (Dense)               (None, 512)               3211776   \n",
      "                                                                 \n",
      " dense_1 (Dense)             (None, 1)                 513       \n",
      "                                                                 \n",
      "=================================================================\n",
      "Total params: 3,453,121\n",
      "Trainable params: 3,453,121\n",
      "Non-trainable params: 0\n",
      "_________________________________________________________________\n"
     ]
    }
   ],
   "source": [
    "model.summary()"
   ]
  },
  {
   "cell_type": "code",
   "execution_count": 21,
   "metadata": {},
   "outputs": [
    {
     "name": "stderr",
     "output_type": "stream",
     "text": [
      "c:\\Users\\Rohit\\anaconda3\\lib\\site-packages\\keras\\optimizers\\optimizer_v2\\rmsprop.py:135: UserWarning: The `lr` argument is deprecated, use `learning_rate` instead.\n",
      "  super(RMSprop, self).__init__(name, **kwargs)\n"
     ]
    }
   ],
   "source": [
    "from tensorflow.keras import optimizers\n",
    "\n",
    "model.compile(loss='binary_crossentropy',\n",
    "             optimizer=optimizers.RMSprop(lr=1e-4),  # lr means learning rate \n",
    "                                                     #1e-4 means 0.0001\n",
    "             metrics=['acc']\n",
    ")"
   ]
  },
  {
   "cell_type": "code",
   "execution_count": 22,
   "metadata": {},
   "outputs": [
    {
     "name": "stderr",
     "output_type": "stream",
     "text": [
      "C:\\Users\\Rohit\\AppData\\Local\\Temp\\ipykernel_47656\\2746844675.py:1: UserWarning: `Model.fit_generator` is deprecated and will be removed in a future version. Please use `Model.fit`, which supports generators.\n",
      "  history=model.fit_generator(\n"
     ]
    },
    {
     "name": "stdout",
     "output_type": "stream",
     "text": [
      "Epoch 1/20\n",
      "100/100 [==============================] - 97s 962ms/step - loss: 0.6909 - acc: 0.5215 - val_loss: 0.6967 - val_acc: 0.5000\n",
      "Epoch 2/20\n",
      "100/100 [==============================] - 66s 664ms/step - loss: 0.6594 - acc: 0.6030 - val_loss: 0.6328 - val_acc: 0.6390\n",
      "Epoch 3/20\n",
      "100/100 [==============================] - 67s 674ms/step - loss: 0.6063 - acc: 0.6815 - val_loss: 0.6153 - val_acc: 0.6490\n",
      "Epoch 4/20\n",
      "100/100 [==============================] - 69s 688ms/step - loss: 0.5729 - acc: 0.6975 - val_loss: 0.6304 - val_acc: 0.6380\n",
      "Epoch 5/20\n",
      "100/100 [==============================] - 66s 665ms/step - loss: 0.5378 - acc: 0.7280 - val_loss: 0.6517 - val_acc: 0.6460\n",
      "Epoch 6/20\n",
      "100/100 [==============================] - 67s 669ms/step - loss: 0.5082 - acc: 0.7505 - val_loss: 0.5673 - val_acc: 0.6970\n",
      "Epoch 7/20\n",
      "100/100 [==============================] - 68s 677ms/step - loss: 0.4771 - acc: 0.7670 - val_loss: 0.5933 - val_acc: 0.6820\n",
      "Epoch 8/20\n",
      "100/100 [==============================] - 68s 682ms/step - loss: 0.4543 - acc: 0.7865 - val_loss: 0.5416 - val_acc: 0.7180\n",
      "Epoch 9/20\n",
      "100/100 [==============================] - 60s 601ms/step - loss: 0.4300 - acc: 0.7980 - val_loss: 0.5411 - val_acc: 0.7150\n",
      "Epoch 10/20\n",
      "100/100 [==============================] - 65s 647ms/step - loss: 0.3986 - acc: 0.8235 - val_loss: 0.5401 - val_acc: 0.7230\n",
      "Epoch 11/20\n",
      "100/100 [==============================] - 63s 634ms/step - loss: 0.3712 - acc: 0.8420 - val_loss: 0.5454 - val_acc: 0.7300\n",
      "Epoch 12/20\n",
      "100/100 [==============================] - 66s 661ms/step - loss: 0.3427 - acc: 0.8540 - val_loss: 0.5450 - val_acc: 0.7360\n",
      "Epoch 13/20\n",
      "100/100 [==============================] - 64s 640ms/step - loss: 0.3229 - acc: 0.8660 - val_loss: 0.5473 - val_acc: 0.7420\n",
      "Epoch 14/20\n",
      "100/100 [==============================] - 62s 615ms/step - loss: 0.3032 - acc: 0.8830 - val_loss: 0.5399 - val_acc: 0.7520\n",
      "Epoch 15/20\n",
      "100/100 [==============================] - 63s 633ms/step - loss: 0.2774 - acc: 0.8860 - val_loss: 0.6574 - val_acc: 0.7170\n",
      "Epoch 16/20\n",
      "100/100 [==============================] - 63s 633ms/step - loss: 0.2577 - acc: 0.8920 - val_loss: 0.6657 - val_acc: 0.7220\n",
      "Epoch 17/20\n",
      "100/100 [==============================] - 64s 640ms/step - loss: 0.2330 - acc: 0.9145 - val_loss: 0.5969 - val_acc: 0.7460\n",
      "Epoch 18/20\n",
      "100/100 [==============================] - 62s 625ms/step - loss: 0.2066 - acc: 0.9275 - val_loss: 0.6637 - val_acc: 0.7230\n",
      "Epoch 19/20\n",
      "100/100 [==============================] - 60s 605ms/step - loss: 0.1955 - acc: 0.9260 - val_loss: 0.6215 - val_acc: 0.7530\n",
      "Epoch 20/20\n",
      "100/100 [==============================] - 62s 619ms/step - loss: 0.1708 - acc: 0.9415 - val_loss: 0.6586 - val_acc: 0.7400\n"
     ]
    }
   ],
   "source": [
    "history=model.fit_generator(\n",
    "    train_generator,\n",
    "    steps_per_epoch=100,   #no.of images per epoch\n",
    "    epochs=20,\n",
    "    validation_data=validation_generator,\n",
    "    validation_steps=50\n",
    ")"
   ]
  },
  {
   "cell_type": "code",
   "execution_count": 23,
   "metadata": {},
   "outputs": [
    {
     "data": {
      "image/png": "[encoded data removed]",
      "text/plain": [
       "<Figure size 576x360 with 1 Axes>"
      ]
     },
     "metadata": {
      "needs_background": "light"
     },
     "output_type": "display_data"
    }
   ],
   "source": [
    "pd.DataFrame(history.history).plot(figsize=(8,5))\n",
    "plt.grid(True)\n",
    "plt.gca().set_ylim(0,1)\n",
    "plt.show()"
   ]
  },
  {
   "cell_type": "code",
   "execution_count": 24,
   "metadata": {},
   "outputs": [],
   "source": [
    "model.save('model.h5')"
   ]
  },
  {
   "cell_type": "code",
   "execution_count": 25,
   "metadata": {},
   "outputs": [],
   "source": [
    "keras.backend.clear_session()\n",
    "del model"
   ]
  }
 ],
 "metadata": {
  "kernelspec": {
   "display_name": "base",
   "language": "python",
   "name": "python3"
  },
  "language_info": {
   "codemirror_mode": {
    "name": "ipython",
    "version": 3
   },
   "file_extension": ".py",
   "mimetype": "text/x-python",
   "name": "python",
   "nbconvert_exporter": "python",
   "pygments_lexer": "ipython3",
   "version": "3.9.7"
  },
  "orig_nbformat": 4,
  "vscode": {
   "interpreter": {
    "hash": "e71547eb8e7a90a87d0183098d7ff6e840abf875b38f1fbd362b6ad19fe16c20"
   }
  }
 },
 "nbformat": 4,
 "nbformat_minor": 2
}
