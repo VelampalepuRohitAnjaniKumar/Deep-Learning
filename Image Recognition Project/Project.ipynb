{
 "cells": [
  {
   "cell_type": "code",
   "execution_count": 1,
   "metadata": {},
   "outputs": [],
   "source": [
    "import numpy as np\n",
    "import pandas as pd\n",
    "import matplotlib.pyplot as plt"
   ]
  },
  {
   "cell_type": "code",
   "execution_count": 2,
   "metadata": {},
   "outputs": [],
   "source": [
    "import tensorflow as tf\n",
    "from tensorflow import keras"
   ]
  },
  {
   "attachments": {},
   "cell_type": "markdown",
   "metadata": {},
   "source": [
    "### Importing Data"
   ]
  },
  {
   "cell_type": "code",
   "execution_count": 3,
   "metadata": {},
   "outputs": [],
   "source": [
    "train_dir=r'D:\\Internshala Videos\\Deep Learning\\Internshala ipynb\\IR Project Data\\Data\\cats_and_dogs\\train'\n",
    "test_dir=r'D:\\Internshala Videos\\Deep Learning\\Internshala ipynb\\IR Project Data\\Data\\cats_and_dogs\\test'\n",
    "validation_dir=r'D:\\Internshala Videos\\Deep Learning\\Internshala ipynb\\IR Project Data\\Data\\cats_and_dogs\\validation'"
   ]
  },
  {
   "attachments": {},
   "cell_type": "markdown",
   "metadata": {},
   "source": [
    "### Data Preprocessing"
   ]
  },
  {
   "attachments": {},
   "cell_type": "markdown",
   "metadata": {},
   "source": [
    " Read the Picture Files"
   ]
  },
  {
   "attachments": {},
   "cell_type": "markdown",
   "metadata": {},
   "source": [
    "Decode the JPEG content to RBG grids of pixels"
   ]
  },
  {
   "attachments": {},
   "cell_type": "markdown",
   "metadata": {},
   "source": [
    "Convert these into floating point tensors"
   ]
  },
  {
   "attachments": {},
   "cell_type": "markdown",
   "metadata": {},
   "source": [
    "Rescale the pixel values(0,255) to the [0,1] interval"
   ]
  },
  {
   "cell_type": "code",
   "execution_count": 4,
   "metadata": {},
   "outputs": [],
   "source": [
    "from tensorflow.keras.preprocessing.image import ImageDataGenerator"
   ]
  },
  {
   "cell_type": "code",
   "execution_count": 5,
   "metadata": {},
   "outputs": [
    {
     "name": "stdout",
     "output_type": "stream",
     "text": [
      "Found 2000 images belonging to 2 classes.\n",
      "Found 1000 images belonging to 2 classes.\n"
     ]
    }
   ],
   "source": [
    "#generating Batches of tensor image data\n",
    "\n",
    "train_datagen=ImageDataGenerator(rescale=1./255)\n",
    "test_datagen=ImageDataGenerator(rescale=1./255)\n",
    "\n",
    "train_generator=train_datagen.flow_from_directory(\n",
    "    train_dir,      # go to train data folder in the directory\n",
    "    target_size=(150,150),   #Reshaping size into 150 x 150 pixels\n",
    "    batch_size=20,           #Data Stores as 20 batches\n",
    "    class_mode='binary'\n",
    ")\n",
    "\n",
    "validation_generator=test_datagen.flow_from_directory(\n",
    "    validation_dir,   #go to validation folder in the directory\n",
    "    target_size=(150,150),   #Reshaping size into 150 x 150 pixels\n",
    "    batch_size=20,           #Data Stores as 20  batches\n",
    "    class_mode='binary'\n",
    ")"
   ]
  },
  {
   "attachments": {},
   "cell_type": "markdown",
   "metadata": {},
   "source": [
    "### Model "
   ]
  },
  {
   "cell_type": "code",
   "execution_count": 6,
   "metadata": {},
   "outputs": [],
   "source": [
    "from tensorflow.keras import layers\n",
    "from tensorflow.keras import models"
   ]
  },
  {
   "cell_type": "code",
   "execution_count": 7,
   "metadata": {},
   "outputs": [],
   "source": [
    "model=models.Sequential()\n",
    "\n",
    " #layer 1\n",
    "model.add(layers.Conv2D(32,(3,3),activation='relu',input_shape=(150,150,3)))  #(filters,window,activation,input_shape)\n",
    "model.add(layers.MaxPooling2D((2,2)))\n",
    "\n",
    "\n",
    "# layer2\n",
    "model.add(layers.Conv2D(64,(3,3),activation='relu'))\n",
    "model.add(layers.MaxPool2D(2,2))\n",
    "\n",
    "\n",
    "#layer 3\n",
    "model.add(layers.Conv2D(128,(3,3),activation='relu'))\n",
    "model.add(layers.MaxPool2D(2,2))\n",
    "\n",
    "#layer 4\n",
    "model.add(layers.Conv2D(128,(3,3),activation='relu'))\n",
    "model.add(layers.MaxPool2D(2,2))\n",
    "\n",
    "\n",
    "#layer 5\n",
    "\n",
    "model.add(layers.Flatten())\n",
    "\n",
    "#layer 6\n",
    "model.add(layers.Dense(512,activation='relu'))   #(neruons,activation)\n",
    "\n",
    " #output layer\n",
    "\n",
    "model.add(layers.Dense(1,activation='sigmoid'))\n",
    "\n"
   ]
  },
  {
   "cell_type": "code",
   "execution_count": 8,
   "metadata": {},
   "outputs": [
    {
     "name": "stdout",
     "output_type": "stream",
     "text": [
      "Model: \"sequential\"\n",
      "_________________________________________________________________\n",
      " Layer (type)                Output Shape              Param #   \n",
      "=================================================================\n",
      " conv2d (Conv2D)             (None, 148, 148, 32)      896       \n",
      "                                                                 \n",
      " max_pooling2d (MaxPooling2D  (None, 74, 74, 32)       0         \n",
      " )                                                               \n",
      "                                                                 \n",
      " conv2d_1 (Conv2D)           (None, 72, 72, 64)        18496     \n",
      "                                                                 \n",
      " max_pooling2d_1 (MaxPooling  (None, 36, 36, 64)       0         \n",
      " 2D)                                                             \n",
      "                                                                 \n",
      " conv2d_2 (Conv2D)           (None, 34, 34, 128)       73856     \n",
      "                                                                 \n",
      " max_pooling2d_2 (MaxPooling  (None, 17, 17, 128)      0         \n",
      " 2D)                                                             \n",
      "                                                                 \n",
      " conv2d_3 (Conv2D)           (None, 15, 15, 128)       147584    \n",
      "                                                                 \n",
      " max_pooling2d_3 (MaxPooling  (None, 7, 7, 128)        0         \n",
      " 2D)                                                             \n",
      "                                                                 \n",
      " flatten (Flatten)           (None, 6272)              0         \n",
      "                                                                 \n",
      " dense (Dense)               (None, 512)               3211776   \n",
      "                                                                 \n",
      " dense_1 (Dense)             (None, 1)                 513       \n",
      "                                                                 \n",
      "=================================================================\n",
      "Total params: 3,453,121\n",
      "Trainable params: 3,453,121\n",
      "Non-trainable params: 0\n",
      "_________________________________________________________________\n"
     ]
    }
   ],
   "source": [
    "model.summary()"
   ]
  },
  {
   "cell_type": "code",
   "execution_count": 9,
   "metadata": {},
   "outputs": [
    {
     "name": "stderr",
     "output_type": "stream",
     "text": [
      "c:\\Users\\Rohit\\anaconda3\\lib\\site-packages\\keras\\optimizers\\optimizer_v2\\rmsprop.py:135: UserWarning: The `lr` argument is deprecated, use `learning_rate` instead.\n",
      "  super(RMSprop, self).__init__(name, **kwargs)\n"
     ]
    }
   ],
   "source": [
    "from tensorflow.keras import optimizers\n",
    "\n",
    "model.compile(loss='binary_crossentropy',\n",
    "             optimizer=optimizers.RMSprop(lr=1e-4),  # lr means learning rate \n",
    "                                                     #1e-4 means 0.0001\n",
    "             metrics=['acc']\n",
    ")"
   ]
  },
  {
   "cell_type": "code",
   "execution_count": 10,
   "metadata": {},
   "outputs": [
    {
     "name": "stderr",
     "output_type": "stream",
     "text": [
      "C:\\Users\\Rohit\\AppData\\Local\\Temp\\ipykernel_64232\\1535195818.py:1: UserWarning: `Model.fit_generator` is deprecated and will be removed in a future version. Please use `Model.fit`, which supports generators.\n",
      "  history=model.fit_generator(\n"
     ]
    },
    {
     "name": "stdout",
     "output_type": "stream",
     "text": [
      "Epoch 1/20\n",
      "100/100 [==============================] - 50s 483ms/step - loss: 0.6916 - acc: 0.5220 - val_loss: 0.6822 - val_acc: 0.5530\n",
      "Epoch 2/20\n",
      "100/100 [==============================] - 46s 463ms/step - loss: 0.6478 - acc: 0.6205 - val_loss: 0.6642 - val_acc: 0.5990\n",
      "Epoch 3/20\n",
      "100/100 [==============================] - 49s 487ms/step - loss: 0.5913 - acc: 0.6815 - val_loss: 0.6570 - val_acc: 0.6230\n",
      "Epoch 4/20\n",
      "100/100 [==============================] - 50s 498ms/step - loss: 0.5510 - acc: 0.7285 - val_loss: 0.6019 - val_acc: 0.6720\n",
      "Epoch 5/20\n",
      "100/100 [==============================] - 57s 575ms/step - loss: 0.5270 - acc: 0.7325 - val_loss: 0.5815 - val_acc: 0.6830\n",
      "Epoch 6/20\n",
      "100/100 [==============================] - 51s 509ms/step - loss: 0.4947 - acc: 0.7535 - val_loss: 0.5848 - val_acc: 0.6800\n",
      "Epoch 7/20\n",
      "100/100 [==============================] - 53s 532ms/step - loss: 0.4744 - acc: 0.7670 - val_loss: 0.5709 - val_acc: 0.6920\n",
      "Epoch 8/20\n",
      "100/100 [==============================] - 49s 494ms/step - loss: 0.4445 - acc: 0.7925 - val_loss: 0.5958 - val_acc: 0.7100\n",
      "Epoch 9/20\n",
      "100/100 [==============================] - 51s 513ms/step - loss: 0.4236 - acc: 0.8020 - val_loss: 0.5663 - val_acc: 0.7020\n",
      "Epoch 10/20\n",
      "100/100 [==============================] - 52s 518ms/step - loss: 0.4033 - acc: 0.8170 - val_loss: 0.5732 - val_acc: 0.7140\n",
      "Epoch 11/20\n",
      "100/100 [==============================] - 51s 514ms/step - loss: 0.3850 - acc: 0.8250 - val_loss: 0.5568 - val_acc: 0.7260\n",
      "Epoch 12/20\n",
      "100/100 [==============================] - 52s 516ms/step - loss: 0.3553 - acc: 0.8365 - val_loss: 0.5919 - val_acc: 0.7140\n",
      "Epoch 13/20\n",
      "100/100 [==============================] - 45s 446ms/step - loss: 0.3341 - acc: 0.8625 - val_loss: 0.5637 - val_acc: 0.7360\n",
      "Epoch 14/20\n",
      "100/100 [==============================] - 51s 510ms/step - loss: 0.3057 - acc: 0.8755 - val_loss: 0.5916 - val_acc: 0.7150\n",
      "Epoch 15/20\n",
      "100/100 [==============================] - 54s 539ms/step - loss: 0.2856 - acc: 0.8835 - val_loss: 0.5791 - val_acc: 0.7210\n",
      "Epoch 16/20\n",
      "100/100 [==============================] - 52s 520ms/step - loss: 0.2614 - acc: 0.8940 - val_loss: 0.6289 - val_acc: 0.7210\n",
      "Epoch 17/20\n",
      "100/100 [==============================] - 45s 453ms/step - loss: 0.2456 - acc: 0.9040 - val_loss: 0.6003 - val_acc: 0.7370\n",
      "Epoch 18/20\n",
      "100/100 [==============================] - 47s 474ms/step - loss: 0.2263 - acc: 0.9125 - val_loss: 0.6569 - val_acc: 0.7390\n",
      "Epoch 19/20\n",
      "100/100 [==============================] - 46s 459ms/step - loss: 0.2008 - acc: 0.9300 - val_loss: 0.9298 - val_acc: 0.6950\n",
      "Epoch 20/20\n",
      "100/100 [==============================] - 47s 472ms/step - loss: 0.1846 - acc: 0.9335 - val_loss: 0.8139 - val_acc: 0.7220\n"
     ]
    }
   ],
   "source": [
    "history=model.fit_generator(\n",
    "    train_generator,\n",
    "    steps_per_epoch=100,   #no.of images per epoch\n",
    "    epochs=20,\n",
    "    validation_data=validation_generator,\n",
    "    validation_steps=50\n",
    ")"
   ]
  },
  {
   "cell_type": "code",
   "execution_count": 11,
   "metadata": {},
   "outputs": [
    {
     "data": {
      "image/png": "[encoded data removed]",
      "text/plain": [
       "<Figure size 576x360 with 1 Axes>"
      ]
     },
     "metadata": {
      "needs_background": "light"
     },
     "output_type": "display_data"
    }
   ],
   "source": [
    "pd.DataFrame(history.history).plot(figsize=(8,5))\n",
    "plt.grid(True)\n",
    "plt.gca().set_ylim(0,1)\n",
    "plt.show()"
   ]
  },
  {
   "cell_type": "code",
   "execution_count": 12,
   "metadata": {},
   "outputs": [],
   "source": [
    "model.save('model.h5')"
   ]
  },
  {
   "cell_type": "code",
   "execution_count": 13,
   "metadata": {},
   "outputs": [],
   "source": [
    "keras.backend.clear_session()\n",
    "del model"
   ]
  },
  {
   "attachments": {},
   "cell_type": "markdown",
   "metadata": {},
   "source": [
    "### Data Augmentation for overfitting"
   ]
  },
  {
   "cell_type": "code",
   "execution_count": 14,
   "metadata": {},
   "outputs": [],
   "source": [
    "train_datagen=ImageDataGenerator(\n",
    "    rescale=1./255,\n",
    "    rotation_range=40,\n",
    "    width_shift_range=0.2,\n",
    "    height_shift_range=0.2,\n",
    "    shear_range=0.2,\n",
    "    zoom_range=0.2,\n",
    "    horizontal_flip=True\n",
    ")\n",
    "\n",
    "test_datagen=ImageDataGenerator(rescale=1./255)\n"
   ]
  },
  {
   "cell_type": "code",
   "execution_count": 15,
   "metadata": {},
   "outputs": [
    {
     "name": "stdout",
     "output_type": "stream",
     "text": [
      "Found 2000 images belonging to 2 classes.\n",
      "Found 1000 images belonging to 2 classes.\n"
     ]
    }
   ],
   "source": [
    "train_generator=train_datagen.flow_from_directory(\n",
    "    train_dir,      # go to train data folder in the directory\n",
    "    target_size=(150,150),   #Reshaping size into 150 x 150 pixels\n",
    "    batch_size=32,           #Data Stores as 20 batches\n",
    "    class_mode='binary'\n",
    ")\n",
    "\n",
    "validation_generator=test_datagen.flow_from_directory(\n",
    "    validation_dir,   #go to validation folder in the directory\n",
    "    target_size=(150,150),   #Reshaping size into 150 x 150 pixels\n",
    "    batch_size=32,           #Data Stores as 20  batches\n",
    "    class_mode='binary'\n",
    ")"
   ]
  },
  {
   "cell_type": "code",
   "execution_count": 16,
   "metadata": {},
   "outputs": [],
   "source": [
    "model=models.Sequential()\n",
    "\n",
    " #layer 1\n",
    "model.add(layers.Conv2D(32,(3,3),activation='relu',input_shape=(150,150,3)))  #(filters,window,activation,input_shape)\n",
    "model.add(layers.MaxPooling2D((2,2)))\n",
    "\n",
    "\n",
    "# layer2\n",
    "model.add(layers.Conv2D(64,(3,3),activation='relu'))\n",
    "model.add(layers.MaxPool2D(2,2))\n",
    "\n",
    "\n",
    "#layer 3\n",
    "model.add(layers.Conv2D(128,(3,3),activation='relu'))\n",
    "model.add(layers.MaxPool2D(2,2))\n",
    "\n",
    "#layer 4\n",
    "model.add(layers.Conv2D(128,(3,3),activation='relu'))\n",
    "model.add(layers.MaxPool2D(2,2))\n",
    "\n",
    "\n",
    "#layer 5\n",
    "\n",
    "model.add(layers.Flatten())\n",
    "\n",
    "model.add(layers.Dropout(0.5))\n",
    "#layer 6\n",
    "model.add(layers.Dense(512,activation='relu'))   #(neruons,activation)\n",
    "\n",
    " #output layer\n",
    "\n",
    "model.add(layers.Dense(1,activation='sigmoid'))\n",
    "\n"
   ]
  },
  {
   "cell_type": "code",
   "execution_count": 17,
   "metadata": {},
   "outputs": [
    {
     "name": "stderr",
     "output_type": "stream",
     "text": [
      "c:\\Users\\Rohit\\anaconda3\\lib\\site-packages\\keras\\optimizers\\optimizer_v2\\rmsprop.py:135: UserWarning: The `lr` argument is deprecated, use `learning_rate` instead.\n",
      "  super(RMSprop, self).__init__(name, **kwargs)\n"
     ]
    }
   ],
   "source": [
    "model.compile(loss='binary_crossentropy',\n",
    "             optimizer=optimizers.RMSprop(lr=1e-4),  # lr means learning rate \n",
    "                                                     #1e-4 means 0.0001\n",
    "             metrics=['acc']\n",
    ")"
   ]
  },
  {
   "cell_type": "code",
   "execution_count": 19,
   "metadata": {},
   "outputs": [
    {
     "name": "stdout",
     "output_type": "stream",
     "text": [
      "Epoch 1/100\n",
      " 63/100 [=================>............] - ETA: 31s - loss: 0.6892 - acc: 0.5430WARNING:tensorflow:Your input ran out of data; interrupting training. Make sure that your dataset or generator can generate at least `steps_per_epoch * epochs` batches (in this case, 10000 batches). You may need to use the repeat() function when building your dataset.\n",
      "WARNING:tensorflow:Your input ran out of data; interrupting training. Make sure that your dataset or generator can generate at least `steps_per_epoch * epochs` batches (in this case, 50 batches). You may need to use the repeat() function when building your dataset.\n",
      "100/100 [==============================] - 65s 644ms/step - loss: 0.6892 - acc: 0.5430 - val_loss: 0.6776 - val_acc: 0.5410\n"
     ]
    }
   ],
   "source": [
    "history=model.fit(\n",
    "    train_generator,\n",
    "    steps_per_epoch=100,   #no.of images per epoch\n",
    "    epochs=100,\n",
    "    validation_data=validation_generator,\n",
    "    validation_steps=50\n",
    ")"
   ]
  },
  {
   "cell_type": "code",
   "execution_count": null,
   "metadata": {},
   "outputs": [],
   "source": [
    "model.save(\"project_model.h5\")"
   ]
  },
  {
   "cell_type": "code",
   "execution_count": null,
   "metadata": {},
   "outputs": [],
   "source": [
    "pd.DataFrame(history.history).plot(figsize=(8,5))\n",
    "plt.grid(True)\n",
    "plt.gca().set_ylim(0,1)\n",
    "plt.show()"
   ]
  }
 ],
 "metadata": {
  "kernelspec": {
   "display_name": "base",
   "language": "python",
   "name": "python3"
  },
  "language_info": {
   "codemirror_mode": {
    "name": "ipython",
    "version": 3
   },
   "file_extension": ".py",
   "mimetype": "text/x-python",
   "name": "python",
   "nbconvert_exporter": "python",
   "pygments_lexer": "ipython3",
   "version": "3.9.7"
  },
  "orig_nbformat": 4,
  "vscode": {
   "interpreter": {
    "hash": "e71547eb8e7a90a87d0183098d7ff6e840abf875b38f1fbd362b6ad19fe16c20"
   }
  }
 },
 "nbformat": 4,
 "nbformat_minor": 2
}
