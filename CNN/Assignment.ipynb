{
 "cells": [
  {
   "cell_type": "code",
   "execution_count": 2,
   "metadata": {},
   "outputs": [],
   "source": [
    "import numpy as np \n",
    "import pandas as pd\n",
    "import matplotlib.pyplot as plt\n"
   ]
  },
  {
   "cell_type": "code",
   "execution_count": 3,
   "metadata": {},
   "outputs": [],
   "source": [
    "import tensorflow as tf\n",
    "from tensorflow import keras"
   ]
  },
  {
   "cell_type": "code",
   "execution_count": 5,
   "metadata": {},
   "outputs": [],
   "source": [
    "#Loading Dataset\n",
    "\n",
    "digit_mnist=keras.datasets.mnist\n",
    "(X_train_full,y_train_full),(X_test,y_test)=digit_mnist.load_data()"
   ]
  },
  {
   "cell_type": "code",
   "execution_count": 6,
   "metadata": {},
   "outputs": [],
   "source": [
    "#Data reshaping\n",
    "\n",
    "X_train_full=X_train_full.reshape((60000,28,28,1))\n",
    "X_test=X_test.reshape((10000,28,28,1))"
   ]
  },
  {
   "cell_type": "code",
   "execution_count": 7,
   "metadata": {},
   "outputs": [],
   "source": [
    "#Data Normalization\n",
    "\n",
    "X_train_n=X_train_full/255.  ## here we dividing with 255. to get float valu\n",
    "X_test_n=X_test/255."
   ]
  },
  {
   "cell_type": "code",
   "execution_count": 8,
   "metadata": {},
   "outputs": [],
   "source": [
    "#Creating Validation Set\n",
    "\n",
    "X_valid,X_train=X_train_n[:6000],X_train_n[6000:]\n",
    "y_valid,y_train=y_train_full[:6000],y_train_full[6000:]\n",
    "X_test=X_test_n"
   ]
  },
  {
   "cell_type": "code",
   "execution_count": 9,
   "metadata": {},
   "outputs": [],
   "source": [
    "np.random.seed(42)\n",
    "tf.random.set_seed(42)"
   ]
  },
  {
   "cell_type": "code",
   "execution_count": 10,
   "metadata": {},
   "outputs": [],
   "source": [
    "#Model \n",
    "\n",
    "model=keras.models.Sequential()\n",
    "model.add(keras.layers.Conv2D(filters=32,kernel_size=(3,3),strides=1,padding='valid',activation='relu',input_shape=(28,28,1)))\n",
    "model.add(keras.layers.MaxPooling2D((2,2)))"
   ]
  },
  {
   "cell_type": "code",
   "execution_count": 11,
   "metadata": {},
   "outputs": [],
   "source": [
    "model.add(keras.layers.Flatten())\n",
    "model.add(keras.layers.Dense(200,activation='relu')) #Hidden Layer 1\n",
    "model.add(keras.layers.Dense(100,activation='relu'))  # Hidden Layer 2\n",
    "\n",
    "model.add(keras.layers.Dense(10,activation='softmax')) #output Layer"
   ]
  },
  {
   "cell_type": "code",
   "execution_count": 12,
   "metadata": {},
   "outputs": [
    {
     "name": "stdout",
     "output_type": "stream",
     "text": [
      "Model: \"sequential\"\n",
      "_________________________________________________________________\n",
      " Layer (type)                Output Shape              Param #   \n",
      "=================================================================\n",
      " conv2d (Conv2D)             (None, 26, 26, 32)        320       \n",
      "                                                                 \n",
      " max_pooling2d (MaxPooling2D  (None, 13, 13, 32)       0         \n",
      " )                                                               \n",
      "                                                                 \n",
      " flatten (Flatten)           (None, 5408)              0         \n",
      "                                                                 \n",
      " dense (Dense)               (None, 200)               1081800   \n",
      "                                                                 \n",
      " dense_1 (Dense)             (None, 100)               20100     \n",
      "                                                                 \n",
      " dense_2 (Dense)             (None, 10)                1010      \n",
      "                                                                 \n",
      "=================================================================\n",
      "Total params: 1,103,230\n",
      "Trainable params: 1,103,230\n",
      "Non-trainable params: 0\n",
      "_________________________________________________________________\n"
     ]
    }
   ],
   "source": [
    "model.summary()"
   ]
  },
  {
   "cell_type": "code",
   "execution_count": 13,
   "metadata": {},
   "outputs": [],
   "source": [
    "model.compile(loss='sparse_categorical_crossentropy',\n",
    "             optimizer='sgd',\n",
    "             metrics=['accuracy']\n",
    ")\n"
   ]
  },
  {
   "cell_type": "code",
   "execution_count": 14,
   "metadata": {},
   "outputs": [
    {
     "name": "stdout",
     "output_type": "stream",
     "text": [
      "Epoch 1/20\n",
      "900/900 [==============================] - 18s 20ms/step - loss: 0.7164 - accuracy: 0.8158 - val_loss: 0.2823 - val_accuracy: 0.9172\n",
      "Epoch 2/20\n",
      "900/900 [==============================] - 16s 18ms/step - loss: 0.2650 - accuracy: 0.9213 - val_loss: 0.2149 - val_accuracy: 0.9398\n",
      "Epoch 3/20\n",
      "900/900 [==============================] - 16s 18ms/step - loss: 0.2037 - accuracy: 0.9392 - val_loss: 0.1697 - val_accuracy: 0.9495\n",
      "Epoch 4/20\n",
      "900/900 [==============================] - 18s 20ms/step - loss: 0.1667 - accuracy: 0.9495 - val_loss: 0.1407 - val_accuracy: 0.9595\n",
      "Epoch 5/20\n",
      "900/900 [==============================] - 18s 20ms/step - loss: 0.1414 - accuracy: 0.9573 - val_loss: 0.1237 - val_accuracy: 0.9633\n",
      "Epoch 6/20\n",
      "900/900 [==============================] - 18s 20ms/step - loss: 0.1229 - accuracy: 0.9632 - val_loss: 0.1135 - val_accuracy: 0.9665\n",
      "Epoch 7/20\n",
      "900/900 [==============================] - 19s 21ms/step - loss: 0.1093 - accuracy: 0.9680 - val_loss: 0.1010 - val_accuracy: 0.9690\n",
      "Epoch 8/20\n",
      "900/900 [==============================] - 20s 22ms/step - loss: 0.0988 - accuracy: 0.9710 - val_loss: 0.0923 - val_accuracy: 0.9732\n",
      "Epoch 9/20\n",
      "900/900 [==============================] - 18s 20ms/step - loss: 0.0895 - accuracy: 0.9729 - val_loss: 0.0867 - val_accuracy: 0.9727\n",
      "Epoch 10/20\n",
      "900/900 [==============================] - 17s 19ms/step - loss: 0.0825 - accuracy: 0.9755 - val_loss: 0.0851 - val_accuracy: 0.9727\n",
      "Epoch 11/20\n",
      "900/900 [==============================] - 18s 20ms/step - loss: 0.0753 - accuracy: 0.9775 - val_loss: 0.0784 - val_accuracy: 0.9748\n",
      "Epoch 12/20\n",
      "900/900 [==============================] - 18s 20ms/step - loss: 0.0708 - accuracy: 0.9791 - val_loss: 0.0774 - val_accuracy: 0.9758\n",
      "Epoch 13/20\n",
      "900/900 [==============================] - 18s 20ms/step - loss: 0.0652 - accuracy: 0.9805 - val_loss: 0.0693 - val_accuracy: 0.9778\n",
      "Epoch 14/20\n",
      "900/900 [==============================] - 17s 19ms/step - loss: 0.0609 - accuracy: 0.9823 - val_loss: 0.0667 - val_accuracy: 0.9797\n",
      "Epoch 15/20\n",
      "900/900 [==============================] - 16s 18ms/step - loss: 0.0572 - accuracy: 0.9833 - val_loss: 0.0686 - val_accuracy: 0.9770\n",
      "Epoch 16/20\n",
      "900/900 [==============================] - 17s 19ms/step - loss: 0.0536 - accuracy: 0.9840 - val_loss: 0.0664 - val_accuracy: 0.9785\n",
      "Epoch 17/20\n",
      "900/900 [==============================] - 16s 18ms/step - loss: 0.0503 - accuracy: 0.9852 - val_loss: 0.0683 - val_accuracy: 0.9793\n",
      "Epoch 18/20\n",
      "900/900 [==============================] - 18s 20ms/step - loss: 0.0470 - accuracy: 0.9856 - val_loss: 0.0606 - val_accuracy: 0.9808\n",
      "Epoch 19/20\n",
      "900/900 [==============================] - 17s 19ms/step - loss: 0.0450 - accuracy: 0.9864 - val_loss: 0.0689 - val_accuracy: 0.9798\n",
      "Epoch 20/20\n",
      "900/900 [==============================] - 17s 19ms/step - loss: 0.0414 - accuracy: 0.9878 - val_loss: 0.0675 - val_accuracy: 0.9797\n"
     ]
    }
   ],
   "source": [
    "model_history=model.fit(X_train,y_train,epochs=20,batch_size=60,\n",
    "                       validation_data=(X_valid,y_valid))"
   ]
  },
  {
   "cell_type": "code",
   "execution_count": 15,
   "metadata": {},
   "outputs": [
    {
     "data": {
      "image/png": "[encoded data removed]",
      "text/plain": [
       "<Figure size 576x360 with 1 Axes>"
      ]
     },
     "metadata": {
      "needs_background": "light"
     },
     "output_type": "display_data"
    }
   ],
   "source": [
    "pd.DataFrame(model_history.history).plot(figsize=(8,5))\n",
    "plt.grid(True)\n",
    "plt.gca().set_ylim(0,1)\n",
    "plt.show()"
   ]
  },
  {
   "cell_type": "code",
   "execution_count": 16,
   "metadata": {},
   "outputs": [
    {
     "name": "stdout",
     "output_type": "stream",
     "text": [
      "313/313 [==============================] - 2s 5ms/step - loss: 0.0671 - accuracy: 0.9784\n"
     ]
    },
    {
     "data": {
      "text/plain": [
       "[0.06714943796396255, 0.9783999919891357]"
      ]
     },
     "execution_count": 16,
     "metadata": {},
     "output_type": "execute_result"
    }
   ],
   "source": [
    "ev=model.evaluate(X_test_n,y_test)\n",
    "ev"
   ]
  },
  {
   "cell_type": "code",
   "execution_count": 17,
   "metadata": {},
   "outputs": [],
   "source": [
    "X_new=X_test[:3]\n"
   ]
  }
 ],
 "metadata": {
  "kernelspec": {
   "display_name": "base",
   "language": "python",
   "name": "python3"
  },
  "language_info": {
   "codemirror_mode": {
    "name": "ipython",
    "version": 3
   },
   "file_extension": ".py",
   "mimetype": "text/x-python",
   "name": "python",
   "nbconvert_exporter": "python",
   "pygments_lexer": "ipython3",
   "version": "3.9.7"
  },
  "orig_nbformat": 4,
  "vscode": {
   "interpreter": {
    "hash": "e71547eb8e7a90a87d0183098d7ff6e840abf875b38f1fbd362b6ad19fe16c20"
   }
  }
 },
 "nbformat": 4,
 "nbformat_minor": 2
}
