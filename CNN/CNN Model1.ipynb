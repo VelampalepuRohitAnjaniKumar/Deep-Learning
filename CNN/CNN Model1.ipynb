{
 "cells": [
  {
   "attachments": {},
   "cell_type": "markdown",
   "metadata": {},
   "source": [
    "### Import Libraries"
   ]
  },
  {
   "cell_type": "code",
   "execution_count": 2,
   "metadata": {},
   "outputs": [],
   "source": [
    "import numpy as np\n",
    "import pandas as pd\n",
    "import matplotlib.pyplot as plt"
   ]
  },
  {
   "cell_type": "code",
   "execution_count": 3,
   "metadata": {},
   "outputs": [],
   "source": [
    "import tensorflow as tf\n",
    "from tensorflow import keras "
   ]
  },
  {
   "attachments": {},
   "cell_type": "markdown",
   "metadata": {},
   "source": [
    "### Loading Dataset"
   ]
  },
  {
   "cell_type": "code",
   "execution_count": 22,
   "metadata": {},
   "outputs": [],
   "source": [
    "fashion_mnist=keras.datasets.fashion_mnist #loading the Dataset from the Keras\n",
    "(X_train_full,y_train_full),(X_test,y_test)=fashion_mnist.load_data()"
   ]
  },
  {
   "cell_type": "code",
   "execution_count": 5,
   "metadata": {},
   "outputs": [],
   "source": [
    "class_names=['T-shirt/top','Trouser','Pullover','Dress','Coat','Sandal','Shirt','Sneaker','Bag','Ankle boot']"
   ]
  },
  {
   "attachments": {},
   "cell_type": "markdown",
   "metadata": {},
   "source": [
    "### Data reshape"
   ]
  },
  {
   "cell_type": "code",
   "execution_count": 6,
   "metadata": {},
   "outputs": [],
   "source": [
    "X_train_full=X_train_full.reshape((60000,28,28,1))\n",
    "X_test=X_test.reshape((10000,28,28,1))"
   ]
  },
  {
   "attachments": {},
   "cell_type": "markdown",
   "metadata": {},
   "source": [
    "### Data Normalization"
   ]
  },
  {
   "cell_type": "code",
   "execution_count": 7,
   "metadata": {},
   "outputs": [],
   "source": [
    "X_train_n=X_train_full/255.  ## here we dividing with 255. to get float valu\n",
    "X_test_n=X_test/255."
   ]
  },
  {
   "attachments": {},
   "cell_type": "markdown",
   "metadata": {},
   "source": [
    "### Splitting Dataset"
   ]
  },
  {
   "cell_type": "code",
   "execution_count": 15,
   "metadata": {},
   "outputs": [],
   "source": [
    "X_valid,X_train=X_train_n[:5000],X_train_n[5000:]\n",
    "y_valid,y_train=y_train_full[:5000],y_train_full[5000:]\n",
    "X_test=X_test_n"
   ]
  },
  {
   "attachments": {},
   "cell_type": "markdown",
   "metadata": {},
   "source": [
    "### Create Model Architecture"
   ]
  },
  {
   "cell_type": "code",
   "execution_count": 9,
   "metadata": {},
   "outputs": [],
   "source": [
    "np.random.seed(42)\n",
    "tf.random.set_seed(42)"
   ]
  },
  {
   "cell_type": "code",
   "execution_count": 10,
   "metadata": {},
   "outputs": [],
   "source": [
    "model=keras.models.Sequential()\n",
    "model.add(keras.layers.Conv2D(filters=32,kernel_size=(3,3),strides=1,padding='valid',activation='relu',input_shape=(28,28,1)))\n",
    "model.add(keras.layers.MaxPooling2D((2,2)))"
   ]
  },
  {
   "cell_type": "code",
   "execution_count": 11,
   "metadata": {},
   "outputs": [],
   "source": [
    "model.add(keras.layers.Flatten())\n",
    "model.add(keras.layers.Dense(300,activation='relu')) #Hidden Layer 1\n",
    "model.add(keras.layers.Dense(100,activation='relu'))  # Hidden Layer 2\n",
    "\n",
    "model.add(keras.layers.Dense(10,activation='softmax')) #output Layer"
   ]
  },
  {
   "cell_type": "code",
   "execution_count": 12,
   "metadata": {},
   "outputs": [
    {
     "name": "stdout",
     "output_type": "stream",
     "text": [
      "Model: \"sequential\"\n",
      "_________________________________________________________________\n",
      " Layer (type)                Output Shape              Param #   \n",
      "=================================================================\n",
      " conv2d (Conv2D)             (None, 26, 26, 32)        320       \n",
      "                                                                 \n",
      " max_pooling2d (MaxPooling2D  (None, 13, 13, 32)       0         \n",
      " )                                                               \n",
      "                                                                 \n",
      " flatten (Flatten)           (None, 5408)              0         \n",
      "                                                                 \n",
      " dense (Dense)               (None, 300)               1622700   \n",
      "                                                                 \n",
      " dense_1 (Dense)             (None, 100)               30100     \n",
      "                                                                 \n",
      " dense_2 (Dense)             (None, 10)                1010      \n",
      "                                                                 \n",
      "=================================================================\n",
      "Total params: 1,654,130\n",
      "Trainable params: 1,654,130\n",
      "Non-trainable params: 0\n",
      "_________________________________________________________________\n"
     ]
    }
   ],
   "source": [
    "model.summary()"
   ]
  },
  {
   "cell_type": "code",
   "execution_count": 13,
   "metadata": {},
   "outputs": [],
   "source": [
    "model.compile(loss='sparse_categorical_crossentropy',\n",
    "             optimizer='sgd',\n",
    "             metrics=['accuracy']\n",
    ")\n"
   ]
  },
  {
   "cell_type": "code",
   "execution_count": 16,
   "metadata": {},
   "outputs": [
    {
     "name": "stdout",
     "output_type": "stream",
     "text": [
      "Epoch 1/20\n",
      "860/860 [==============================] - 23s 27ms/step - loss: 0.8767 - accuracy: 0.6993 - val_loss: 0.7467 - val_accuracy: 0.7364\n",
      "Epoch 2/20\n",
      "860/860 [==============================] - 24s 28ms/step - loss: 0.5388 - accuracy: 0.8049 - val_loss: 0.5005 - val_accuracy: 0.8132\n",
      "Epoch 3/20\n",
      "860/860 [==============================] - 22s 26ms/step - loss: 0.4810 - accuracy: 0.8267 - val_loss: 0.9002 - val_accuracy: 0.7122\n",
      "Epoch 4/20\n",
      "860/860 [==============================] - 26s 30ms/step - loss: 0.4439 - accuracy: 0.8412 - val_loss: 0.4148 - val_accuracy: 0.8566\n",
      "Epoch 5/20\n",
      "860/860 [==============================] - 23s 26ms/step - loss: 0.4200 - accuracy: 0.8502 - val_loss: 0.4395 - val_accuracy: 0.8460\n",
      "Epoch 6/20\n",
      "860/860 [==============================] - 21s 24ms/step - loss: 0.3961 - accuracy: 0.8583 - val_loss: 0.3777 - val_accuracy: 0.8708\n",
      "Epoch 7/20\n",
      "860/860 [==============================] - 26s 30ms/step - loss: 0.3787 - accuracy: 0.8660 - val_loss: 0.4092 - val_accuracy: 0.8528\n",
      "Epoch 8/20\n",
      "860/860 [==============================] - 29s 34ms/step - loss: 0.3636 - accuracy: 0.8695 - val_loss: 0.5110 - val_accuracy: 0.8112\n",
      "Epoch 9/20\n",
      "860/860 [==============================] - 29s 34ms/step - loss: 0.3495 - accuracy: 0.8741 - val_loss: 0.3712 - val_accuracy: 0.8666\n",
      "Epoch 10/20\n",
      "860/860 [==============================] - 34s 40ms/step - loss: 0.3376 - accuracy: 0.8785 - val_loss: 0.3769 - val_accuracy: 0.8608\n",
      "Epoch 11/20\n",
      "860/860 [==============================] - 33s 38ms/step - loss: 0.3253 - accuracy: 0.8816 - val_loss: 0.3460 - val_accuracy: 0.8744\n",
      "Epoch 12/20\n",
      "860/860 [==============================] - 29s 34ms/step - loss: 0.3140 - accuracy: 0.8865 - val_loss: 0.3234 - val_accuracy: 0.8882\n",
      "Epoch 13/20\n",
      "860/860 [==============================] - 35s 41ms/step - loss: 0.3067 - accuracy: 0.8892 - val_loss: 0.3327 - val_accuracy: 0.8864\n",
      "Epoch 14/20\n",
      "860/860 [==============================] - 36s 42ms/step - loss: 0.2978 - accuracy: 0.8916 - val_loss: 0.3754 - val_accuracy: 0.8618\n",
      "Epoch 15/20\n",
      "860/860 [==============================] - 35s 41ms/step - loss: 0.2901 - accuracy: 0.8945 - val_loss: 0.3813 - val_accuracy: 0.8636\n",
      "Epoch 16/20\n",
      "860/860 [==============================] - 34s 40ms/step - loss: 0.2834 - accuracy: 0.8976 - val_loss: 0.2964 - val_accuracy: 0.8934\n",
      "Epoch 17/20\n",
      "860/860 [==============================] - 33s 39ms/step - loss: 0.2758 - accuracy: 0.8998 - val_loss: 0.4012 - val_accuracy: 0.8622\n",
      "Epoch 18/20\n",
      "860/860 [==============================] - 35s 41ms/step - loss: 0.2704 - accuracy: 0.9007 - val_loss: 0.3523 - val_accuracy: 0.8726\n",
      "Epoch 19/20\n",
      "860/860 [==============================] - 32s 37ms/step - loss: 0.2643 - accuracy: 0.9036 - val_loss: 0.3113 - val_accuracy: 0.8880\n",
      "Epoch 20/20\n",
      "860/860 [==============================] - 32s 37ms/step - loss: 0.2589 - accuracy: 0.9048 - val_loss: 0.3212 - val_accuracy: 0.8858\n"
     ]
    }
   ],
   "source": [
    "model_history=model.fit(X_train,y_train,epochs=20,batch_size=64,\n",
    "                       validation_data=(X_valid,y_valid))"
   ]
  },
  {
   "cell_type": "code",
   "execution_count": 17,
   "metadata": {},
   "outputs": [
    {
     "data": {
      "image/png": "[encoded data removed]",
      "text/plain": [
       "<Figure size 576x360 with 1 Axes>"
      ]
     },
     "metadata": {
      "needs_background": "light"
     },
     "output_type": "display_data"
    }
   ],
   "source": [
    "pd.DataFrame(model_history.history).plot(figsize=(8,5))\n",
    "plt.grid(True)\n",
    "plt.gca().set_ylim(0,1)\n",
    "plt.show()"
   ]
  },
  {
   "cell_type": "code",
   "execution_count": 23,
   "metadata": {},
   "outputs": [
    {
     "name": "stdout",
     "output_type": "stream",
     "text": [
      "313/313 [==============================] - 2s 7ms/step - loss: 0.3313 - accuracy: 0.8796\n"
     ]
    },
    {
     "data": {
      "text/plain": [
       "[0.33125966787338257, 0.8795999884605408]"
      ]
     },
     "execution_count": 23,
     "metadata": {},
     "output_type": "execute_result"
    }
   ],
   "source": [
    "ev=model.evaluate(X_test_n,y_test)\n",
    "ev"
   ]
  },
  {
   "cell_type": "code",
   "execution_count": 24,
   "metadata": {},
   "outputs": [],
   "source": [
    "X_new=X_test[:3]\n"
   ]
  },
  {
   "cell_type": "code",
   "execution_count": 27,
   "metadata": {},
   "outputs": [
    {
     "ename": "AttributeError",
     "evalue": "'Sequential' object has no attribute 'predict_classes'",
     "output_type": "error",
     "traceback": [
      "\u001b[1;31m---------------------------------------------------------------------------\u001b[0m",
      "\u001b[1;31mAttributeError\u001b[0m                            Traceback (most recent call last)",
      "\u001b[1;32m~\\AppData\\Local\\Temp\\ipykernel_32776\\554651941.py\u001b[0m in \u001b[0;36m<module>\u001b[1;34m\u001b[0m\n\u001b[1;32m----> 1\u001b[1;33m \u001b[0my_pred\u001b[0m\u001b[1;33m=\u001b[0m\u001b[0mmodel\u001b[0m\u001b[1;33m.\u001b[0m\u001b[0mpredict_classes\u001b[0m\u001b[1;33m(\u001b[0m\u001b[0mX_new\u001b[0m\u001b[1;33m)\u001b[0m\u001b[1;33m\u001b[0m\u001b[1;33m\u001b[0m\u001b[0m\n\u001b[0m\u001b[0;32m      2\u001b[0m \u001b[0my_pred\u001b[0m\u001b[1;33m\u001b[0m\u001b[1;33m\u001b[0m\u001b[0m\n",
      "\u001b[1;31mAttributeError\u001b[0m: 'Sequential' object has no attribute 'predict_classes'"
     ]
    }
   ],
   "source": [
    "y_pred=model.predict_classes(X_new)\n",
    "y_pred"
   ]
  },
  {
   "cell_type": "code",
   "execution_count": 28,
   "metadata": {},
   "outputs": [
    {
     "data": {
      "text/plain": [
       "array([9, 2, 1], dtype=uint8)"
      ]
     },
     "execution_count": 28,
     "metadata": {},
     "output_type": "execute_result"
    }
   ],
   "source": [
    "y_test[:3]"
   ]
  },
  {
   "cell_type": "code",
   "execution_count": 29,
   "metadata": {},
   "outputs": [
    {
     "name": "stdout",
     "output_type": "stream",
     "text": [
      "AxesImage(54,36;334.8x217.44)\n"
     ]
    },
    {
     "data": {
      "image/png": "[encoded data removed]",
      "text/plain": [
       "<Figure size 432x288 with 1 Axes>"
      ]
     },
     "metadata": {
      "needs_background": "light"
     },
     "output_type": "display_data"
    }
   ],
   "source": [
    "print(plt.imshow(X_test[0].reshape((28,28))))"
   ]
  },
  {
   "cell_type": "code",
   "execution_count": 30,
   "metadata": {},
   "outputs": [
    {
     "data": {
      "text/plain": [
       "<function keras.backend.clear_session()>"
      ]
     },
     "execution_count": 30,
     "metadata": {},
     "output_type": "execute_result"
    }
   ],
   "source": [
    "keras.backend.clear_session"
   ]
  },
  {
   "cell_type": "code",
   "execution_count": 31,
   "metadata": {},
   "outputs": [],
   "source": [
    "del model"
   ]
  }
 ],
 "metadata": {
  "kernelspec": {
   "display_name": "base",
   "language": "python",
   "name": "python3"
  },
  "language_info": {
   "codemirror_mode": {
    "name": "ipython",
    "version": 3
   },
   "file_extension": ".py",
   "mimetype": "text/x-python",
   "name": "python",
   "nbconvert_exporter": "python",
   "pygments_lexer": "ipython3",
   "version": "3.9.7"
  },
  "orig_nbformat": 4,
  "vscode": {
   "interpreter": {
    "hash": "e71547eb8e7a90a87d0183098d7ff6e840abf875b38f1fbd362b6ad19fe16c20"
   }
  }
 },
 "nbformat": 4,
 "nbformat_minor": 2
}
