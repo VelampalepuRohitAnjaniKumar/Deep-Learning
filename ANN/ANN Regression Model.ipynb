{
 "cells": [
  {
   "attachments": {},
   "cell_type": "markdown",
   "metadata": {},
   "source": [
    "## Using Sequential API\n"
   ]
  },
  {
   "attachments": {},
   "cell_type": "markdown",
   "metadata": {},
   "source": [
    "### Import Libraries"
   ]
  },
  {
   "cell_type": "code",
   "execution_count": 1,
   "metadata": {},
   "outputs": [],
   "source": [
    "import numpy as np\n",
    "import pandas as pd\n",
    "import matplotlib.pyplot as plt"
   ]
  },
  {
   "cell_type": "code",
   "execution_count": 2,
   "metadata": {},
   "outputs": [],
   "source": [
    "import tensorflow as tf\n",
    "from tensorflow import keras\n",
    "    "
   ]
  },
  {
   "attachments": {},
   "cell_type": "markdown",
   "metadata": {},
   "source": [
    "### Import Dataset"
   ]
  },
  {
   "cell_type": "code",
   "execution_count": 3,
   "metadata": {},
   "outputs": [],
   "source": [
    "from sklearn.datasets import fetch_california_housing\n"
   ]
  },
  {
   "cell_type": "code",
   "execution_count": 4,
   "metadata": {},
   "outputs": [],
   "source": [
    "housing=fetch_california_housing()"
   ]
  },
  {
   "cell_type": "code",
   "execution_count": 5,
   "metadata": {},
   "outputs": [
    {
     "data": {
      "text/plain": [
       "array([[   8.3252    ,   41.        ,    6.98412698, ...,    2.55555556,\n",
       "          37.88      , -122.23      ],\n",
       "       [   8.3014    ,   21.        ,    6.23813708, ...,    2.10984183,\n",
       "          37.86      , -122.22      ],\n",
       "       [   7.2574    ,   52.        ,    8.28813559, ...,    2.80225989,\n",
       "          37.85      , -122.24      ],\n",
       "       ...,\n",
       "       [   1.7       ,   17.        ,    5.20554273, ...,    2.3256351 ,\n",
       "          39.43      , -121.22      ],\n",
       "       [   1.8672    ,   18.        ,    5.32951289, ...,    2.12320917,\n",
       "          39.43      , -121.32      ],\n",
       "       [   2.3886    ,   16.        ,    5.25471698, ...,    2.61698113,\n",
       "          39.37      , -121.24      ]])"
      ]
     },
     "execution_count": 5,
     "metadata": {},
     "output_type": "execute_result"
    }
   ],
   "source": [
    "housing.data"
   ]
  },
  {
   "cell_type": "code",
   "execution_count": 6,
   "metadata": {},
   "outputs": [
    {
     "data": {
      "text/plain": [
       "array([4.526, 3.585, 3.521, ..., 0.923, 0.847, 0.894])"
      ]
     },
     "execution_count": 6,
     "metadata": {},
     "output_type": "execute_result"
    }
   ],
   "source": [
    "housing.target"
   ]
  },
  {
   "cell_type": "code",
   "execution_count": 7,
   "metadata": {},
   "outputs": [
    {
     "data": {
      "text/plain": [
       "'.. _california_housing_dataset:\\n\\nCalifornia Housing dataset\\n--------------------------\\n\\n**Data Set Characteristics:**\\n\\n    :Number of Instances: 20640\\n\\n    :Number of Attributes: 8 numeric, predictive attributes and the target\\n\\n    :Attribute Information:\\n        - MedInc        median income in block group\\n        - HouseAge      median house age in block group\\n        - AveRooms      average number of rooms per household\\n        - AveBedrms     average number of bedrooms per household\\n        - Population    block group population\\n        - AveOccup      average number of household members\\n        - Latitude      block group latitude\\n        - Longitude     block group longitude\\n\\n    :Missing Attribute Values: None\\n\\nThis dataset was obtained from the StatLib repository.\\nhttps://www.dcc.fc.up.pt/~ltorgo/Regression/cal_housing.html\\n\\nThe target variable is the median house value for California districts,\\nexpressed in hundreds of thousands of dollars ($100,000).\\n\\nThis dataset was derived from the 1990 U.S. census, using one row per census\\nblock group. A block group is the smallest geographical unit for which the U.S.\\nCensus Bureau publishes sample data (a block group typically has a population\\nof 600 to 3,000 people).\\n\\nAn household is a group of people residing within a home. Since the average\\nnumber of rooms and bedrooms in this dataset are provided per household, these\\ncolumns may take surpinsingly large values for block groups with few households\\nand many empty houses, such as vacation resorts.\\n\\nIt can be downloaded/loaded using the\\n:func:`sklearn.datasets.fetch_california_housing` function.\\n\\n.. topic:: References\\n\\n    - Pace, R. Kelley and Ronald Barry, Sparse Spatial Autoregressions,\\n      Statistics and Probability Letters, 33 (1997) 291-297\\n'"
      ]
     },
     "execution_count": 7,
     "metadata": {},
     "output_type": "execute_result"
    }
   ],
   "source": [
    "housing.DESCR"
   ]
  },
  {
   "cell_type": "code",
   "execution_count": 8,
   "metadata": {},
   "outputs": [
    {
     "data": {
      "text/plain": [
       "['MedInc',\n",
       " 'HouseAge',\n",
       " 'AveRooms',\n",
       " 'AveBedrms',\n",
       " 'Population',\n",
       " 'AveOccup',\n",
       " 'Latitude',\n",
       " 'Longitude']"
      ]
     },
     "execution_count": 8,
     "metadata": {},
     "output_type": "execute_result"
    }
   ],
   "source": [
    "housing.feature_names"
   ]
  },
  {
   "attachments": {},
   "cell_type": "markdown",
   "metadata": {},
   "source": [
    "### Training Dataset"
   ]
  },
  {
   "cell_type": "code",
   "execution_count": 9,
   "metadata": {},
   "outputs": [],
   "source": [
    "from sklearn.model_selection import train_test_split\n"
   ]
  },
  {
   "cell_type": "code",
   "execution_count": 10,
   "metadata": {},
   "outputs": [],
   "source": [
    "X_train_full,X_test,y_train_full,y_test=train_test_split(housing.data,housing.target,random_state=42)\n",
    "X_train,X_valid,y_train,y_valid=train_test_split(X_train_full,y_train_full,random_state=42)"
   ]
  },
  {
   "cell_type": "code",
   "execution_count": 11,
   "metadata": {},
   "outputs": [
    {
     "data": {
      "text/plain": [
       "(15480, 8)"
      ]
     },
     "execution_count": 11,
     "metadata": {},
     "output_type": "execute_result"
    }
   ],
   "source": [
    "X_train_full.shape"
   ]
  },
  {
   "attachments": {},
   "cell_type": "markdown",
   "metadata": {},
   "source": [
    "### Data Preprocessing"
   ]
  },
  {
   "cell_type": "code",
   "execution_count": 12,
   "metadata": {},
   "outputs": [],
   "source": [
    "from sklearn.preprocessing import StandardScaler\n"
   ]
  },
  {
   "cell_type": "code",
   "execution_count": 13,
   "metadata": {},
   "outputs": [],
   "source": [
    "scaler= StandardScaler()\n",
    "X_train =scaler.fit_transform(X_train)\n",
    "X_valid=scaler.fit_transform(X_valid)\n",
    "X_test = scaler.fit_transform(X_test)"
   ]
  },
  {
   "cell_type": "code",
   "execution_count": 14,
   "metadata": {},
   "outputs": [],
   "source": [
    "# to get random values from the dataset\n",
    "\n",
    "np.random.seed(42)\n",
    "tf.random.set_seed(42)"
   ]
  },
  {
   "cell_type": "code",
   "execution_count": 15,
   "metadata": {},
   "outputs": [
    {
     "data": {
      "text/plain": [
       "(11610, 8)"
      ]
     },
     "execution_count": 15,
     "metadata": {},
     "output_type": "execute_result"
    }
   ],
   "source": [
    "X_train.shape"
   ]
  },
  {
   "attachments": {},
   "cell_type": "markdown",
   "metadata": {},
   "source": [
    "### Model Layers"
   ]
  },
  {
   "cell_type": "code",
   "execution_count": 16,
   "metadata": {},
   "outputs": [],
   "source": [
    "model= keras.models.Sequential([\n",
    "    keras.layers.Dense(30,activation='relu',input_shape=[8]),\n",
    "    keras.layers.Dense(30,activation='relu'),\n",
    "    keras.layers.Dense(1)\n",
    "])"
   ]
  },
  {
   "cell_type": "code",
   "execution_count": 17,
   "metadata": {},
   "outputs": [
    {
     "name": "stdout",
     "output_type": "stream",
     "text": [
      "Model: \"sequential\"\n",
      "_________________________________________________________________\n",
      " Layer (type)                Output Shape              Param #   \n",
      "=================================================================\n",
      " dense (Dense)               (None, 30)                270       \n",
      "                                                                 \n",
      " dense_1 (Dense)             (None, 30)                930       \n",
      "                                                                 \n",
      " dense_2 (Dense)             (None, 1)                 31        \n",
      "                                                                 \n",
      "=================================================================\n",
      "Total params: 1,231\n",
      "Trainable params: 1,231\n",
      "Non-trainable params: 0\n",
      "_________________________________________________________________\n"
     ]
    }
   ],
   "source": [
    "model.summary()"
   ]
  },
  {
   "attachments": {},
   "cell_type": "markdown",
   "metadata": {},
   "source": [
    "### Model Compilation"
   ]
  },
  {
   "cell_type": "code",
   "execution_count": 18,
   "metadata": {},
   "outputs": [
    {
     "name": "stderr",
     "output_type": "stream",
     "text": [
      "c:\\Users\\Rohit\\anaconda3\\lib\\site-packages\\keras\\optimizers\\optimizer_v2\\gradient_descent.py:108: UserWarning: The `lr` argument is deprecated, use `learning_rate` instead.\n",
      "  super(SGD, self).__init__(name, **kwargs)\n"
     ]
    }
   ],
   "source": [
    "model.compile(loss='mean_squared_error',\n",
    "              optimizer=keras.optimizers.SGD(lr=1e-3),\n",
    "              metrics=['mae'])"
   ]
  },
  {
   "cell_type": "code",
   "execution_count": 19,
   "metadata": {},
   "outputs": [
    {
     "name": "stdout",
     "output_type": "stream",
     "text": [
      "Epoch 1/20\n",
      "363/363 [==============================] - 2s 4ms/step - loss: 1.8866 - mae: 0.9900 - val_loss: 0.7414 - val_mae: 0.6560\n",
      "Epoch 2/20\n",
      "363/363 [==============================] - 1s 3ms/step - loss: 0.6577 - mae: 0.6042 - val_loss: 0.6221 - val_mae: 0.5870\n",
      "Epoch 3/20\n",
      "363/363 [==============================] - 1s 3ms/step - loss: 0.5934 - mae: 0.5618 - val_loss: 0.5779 - val_mae: 0.5550\n",
      "Epoch 4/20\n",
      "363/363 [==============================] - 1s 2ms/step - loss: 0.5557 - mae: 0.5398 - val_loss: 0.5572 - val_mae: 0.5496\n",
      "Epoch 5/20\n",
      "363/363 [==============================] - 1s 2ms/step - loss: 0.5272 - mae: 0.5237 - val_loss: 0.5305 - val_mae: 0.5319\n",
      "Epoch 6/20\n",
      "363/363 [==============================] - 1s 2ms/step - loss: 0.5033 - mae: 0.5113 - val_loss: 0.5113 - val_mae: 0.5224\n",
      "Epoch 7/20\n",
      "363/363 [==============================] - 1s 2ms/step - loss: 0.4854 - mae: 0.5010 - val_loss: 0.4974 - val_mae: 0.5151\n",
      "Epoch 8/20\n",
      "363/363 [==============================] - 1s 3ms/step - loss: 0.4709 - mae: 0.4924 - val_loss: 0.4903 - val_mae: 0.5109\n",
      "Epoch 9/20\n",
      "363/363 [==============================] - 1s 2ms/step - loss: 0.4578 - mae: 0.4857 - val_loss: 0.4773 - val_mae: 0.5029\n",
      "Epoch 10/20\n",
      "363/363 [==============================] - 1s 2ms/step - loss: 0.4474 - mae: 0.4797 - val_loss: 0.4696 - val_mae: 0.4988\n",
      "Epoch 11/20\n",
      "363/363 [==============================] - 1s 2ms/step - loss: 0.4393 - mae: 0.4744 - val_loss: 0.4704 - val_mae: 0.5039\n",
      "Epoch 12/20\n",
      "363/363 [==============================] - 1s 2ms/step - loss: 0.4318 - mae: 0.4703 - val_loss: 0.4590 - val_mae: 0.4942\n",
      "Epoch 13/20\n",
      "363/363 [==============================] - 1s 2ms/step - loss: 0.4261 - mae: 0.4674 - val_loss: 0.4587 - val_mae: 0.4963\n",
      "Epoch 14/20\n",
      "363/363 [==============================] - 1s 3ms/step - loss: 0.4202 - mae: 0.4636 - val_loss: 0.4550 - val_mae: 0.4951\n",
      "Epoch 15/20\n",
      "363/363 [==============================] - 1s 2ms/step - loss: 0.4155 - mae: 0.4613 - val_loss: 0.4507 - val_mae: 0.4904\n",
      "Epoch 16/20\n",
      "363/363 [==============================] - 1s 3ms/step - loss: 0.4112 - mae: 0.4591 - val_loss: 0.4458 - val_mae: 0.4876\n",
      "Epoch 17/20\n",
      "363/363 [==============================] - 1s 2ms/step - loss: 0.4077 - mae: 0.4569 - val_loss: 0.4431 - val_mae: 0.4835\n",
      "Epoch 18/20\n",
      "363/363 [==============================] - 1s 2ms/step - loss: 0.4040 - mae: 0.4545 - val_loss: 0.4418 - val_mae: 0.4822\n",
      "Epoch 19/20\n",
      "363/363 [==============================] - 1s 2ms/step - loss: 0.4004 - mae: 0.4521 - val_loss: 0.4388 - val_mae: 0.4807\n",
      "Epoch 20/20\n",
      "363/363 [==============================] - 1s 2ms/step - loss: 0.3980 - mae: 0.4508 - val_loss: 0.4383 - val_mae: 0.4820\n"
     ]
    }
   ],
   "source": [
    "model_history=model.fit(X_train,y_train,epochs=20,\n",
    "                       validation_data=(X_valid,y_valid))"
   ]
  },
  {
   "cell_type": "code",
   "execution_count": 20,
   "metadata": {},
   "outputs": [
    {
     "name": "stdout",
     "output_type": "stream",
     "text": [
      "162/162 [==============================] - 0s 2ms/step - loss: 0.3993 - mae: 0.4595\n"
     ]
    }
   ],
   "source": [
    "mae_test=model.evaluate(X_test,y_test)"
   ]
  },
  {
   "cell_type": "code",
   "execution_count": 21,
   "metadata": {},
   "outputs": [
    {
     "data": {
      "text/plain": [
       "{'loss': [1.8866397142410278,\n",
       "  0.6577126979827881,\n",
       "  0.593418538570404,\n",
       "  0.5557191371917725,\n",
       "  0.5271905064582825,\n",
       "  0.5032975673675537,\n",
       "  0.48535555601119995,\n",
       "  0.47091811895370483,\n",
       "  0.45779937505722046,\n",
       "  0.4474469721317291,\n",
       "  0.4393136501312256,\n",
       "  0.43176087737083435,\n",
       "  0.42605164647102356,\n",
       "  0.42017653584480286,\n",
       "  0.41549983620643616,\n",
       "  0.41116511821746826,\n",
       "  0.4077068567276001,\n",
       "  0.40395283699035645,\n",
       "  0.4004494547843933,\n",
       "  0.39796027541160583],\n",
       " 'mae': [0.9900256991386414,\n",
       "  0.6041509509086609,\n",
       "  0.5618005990982056,\n",
       "  0.5398454070091248,\n",
       "  0.5237293839454651,\n",
       "  0.5112563967704773,\n",
       "  0.5010153651237488,\n",
       "  0.492448091506958,\n",
       "  0.4857262969017029,\n",
       "  0.4797375202178955,\n",
       "  0.4744163453578949,\n",
       "  0.4703480303287506,\n",
       "  0.46740883588790894,\n",
       "  0.46360209584236145,\n",
       "  0.461266428232193,\n",
       "  0.4591343402862549,\n",
       "  0.4568699896335602,\n",
       "  0.4545365273952484,\n",
       "  0.4521064758300781,\n",
       "  0.45083147287368774],\n",
       " 'val_loss': [0.7413728833198547,\n",
       "  0.6220595836639404,\n",
       "  0.5779173374176025,\n",
       "  0.5571869611740112,\n",
       "  0.5305212736129761,\n",
       "  0.5112658739089966,\n",
       "  0.49737149477005005,\n",
       "  0.4903269410133362,\n",
       "  0.4772711396217346,\n",
       "  0.4695732593536377,\n",
       "  0.4703766405582428,\n",
       "  0.4590151607990265,\n",
       "  0.4586655795574188,\n",
       "  0.45500877499580383,\n",
       "  0.45073699951171875,\n",
       "  0.4458054006099701,\n",
       "  0.44312483072280884,\n",
       "  0.44182002544403076,\n",
       "  0.438769668340683,\n",
       "  0.43828630447387695],\n",
       " 'val_mae': [0.6560152769088745,\n",
       "  0.5870209336280823,\n",
       "  0.5550429821014404,\n",
       "  0.5495699644088745,\n",
       "  0.5318752527236938,\n",
       "  0.5223987698554993,\n",
       "  0.5151413083076477,\n",
       "  0.5109214186668396,\n",
       "  0.502907931804657,\n",
       "  0.4988013803958893,\n",
       "  0.5039191842079163,\n",
       "  0.49423903226852417,\n",
       "  0.4962692856788635,\n",
       "  0.4951176047325134,\n",
       "  0.49042701721191406,\n",
       "  0.48755040764808655,\n",
       "  0.4834802448749542,\n",
       "  0.4822426438331604,\n",
       "  0.480660080909729,\n",
       "  0.48197242617607117]}"
      ]
     },
     "execution_count": 21,
     "metadata": {},
     "output_type": "execute_result"
    }
   ],
   "source": [
    "model_history.history"
   ]
  },
  {
   "cell_type": "code",
   "execution_count": 22,
   "metadata": {},
   "outputs": [
    {
     "data": {
      "image/png": "[encoded data removed]",
      "text/plain": [
       "<Figure size 576x360 with 1 Axes>"
      ]
     },
     "metadata": {
      "needs_background": "light"
     },
     "output_type": "display_data"
    }
   ],
   "source": [
    "pd.DataFrame(model_history.history).plot(figsize=(8,5))\n",
    "plt.grid(True)\n",
    "plt.gca().set_ylim(0,1)\n",
    "plt.show()"
   ]
  },
  {
   "cell_type": "code",
   "execution_count": 23,
   "metadata": {},
   "outputs": [],
   "source": [
    "X_new=X_test[:3]"
   ]
  },
  {
   "cell_type": "code",
   "execution_count": 24,
   "metadata": {},
   "outputs": [
    {
     "name": "stdout",
     "output_type": "stream",
     "text": [
      "1/1 [==============================] - 0s 236ms/step\n",
      "[[0.48965693]\n",
      " [1.9347274 ]\n",
      " [3.6413553 ]]\n"
     ]
    }
   ],
   "source": [
    "y_pred=model.predict(X_new)\n",
    "print(y_pred)"
   ]
  },
  {
   "cell_type": "code",
   "execution_count": 25,
   "metadata": {},
   "outputs": [
    {
     "name": "stdout",
     "output_type": "stream",
     "text": [
      "[0.477   0.458   5.00001]\n"
     ]
    }
   ],
   "source": [
    "print(y_test[:3])"
   ]
  },
  {
   "attachments": {},
   "cell_type": "markdown",
   "metadata": {},
   "source": [
    "## Using Functional API"
   ]
  },
  {
   "cell_type": "code",
   "execution_count": 26,
   "metadata": {},
   "outputs": [],
   "source": [
    "del model  # deleting Previous Model"
   ]
  },
  {
   "cell_type": "code",
   "execution_count": 27,
   "metadata": {},
   "outputs": [],
   "source": [
    "keras.backend.clear_session()"
   ]
  },
  {
   "attachments": {},
   "cell_type": "markdown",
   "metadata": {},
   "source": [
    "### Creating Layers"
   ]
  },
  {
   "cell_type": "code",
   "execution_count": 29,
   "metadata": {},
   "outputs": [],
   "source": [
    "input_ =keras.layers.Input(shape=X_train.shape[1:])\n",
    "hidden1=keras.layers.Dense(30,activation='relu')(input_)\n",
    "hidden2=keras.layers.Dense(30,activation='relu')(hidden1)\n",
    "concat=keras.layers.concatenate([input_,hidden2])\n",
    "output=keras.layers.Dense(1)(concat)"
   ]
  },
  {
   "cell_type": "code",
   "execution_count": 30,
   "metadata": {},
   "outputs": [],
   "source": [
    "model= keras.models.Model(inputs=[input_],outputs=[output])\n"
   ]
  },
  {
   "cell_type": "code",
   "execution_count": 32,
   "metadata": {},
   "outputs": [
    {
     "name": "stdout",
     "output_type": "stream",
     "text": [
      "Model: \"model\"\n",
      "__________________________________________________________________________________________________\n",
      " Layer (type)                   Output Shape         Param #     Connected to                     \n",
      "==================================================================================================\n",
      " input_2 (InputLayer)           [(None, 8)]          0           []                               \n",
      "                                                                                                  \n",
      " dense_3 (Dense)                (None, 30)           270         ['input_2[0][0]']                \n",
      "                                                                                                  \n",
      " dense_4 (Dense)                (None, 30)           930         ['dense_3[0][0]']                \n",
      "                                                                                                  \n",
      " concatenate_1 (Concatenate)    (None, 38)           0           ['input_2[0][0]',                \n",
      "                                                                  'dense_4[0][0]']                \n",
      "                                                                                                  \n",
      " dense_5 (Dense)                (None, 1)            39          ['concatenate_1[0][0]']          \n",
      "                                                                                                  \n",
      "==================================================================================================\n",
      "Total params: 1,239\n",
      "Trainable params: 1,239\n",
      "Non-trainable params: 0\n",
      "__________________________________________________________________________________________________\n"
     ]
    }
   ],
   "source": [
    "model.summary()"
   ]
  },
  {
   "attachments": {},
   "cell_type": "markdown",
   "metadata": {},
   "source": [
    "### Compiling Model"
   ]
  },
  {
   "cell_type": "code",
   "execution_count": 33,
   "metadata": {},
   "outputs": [
    {
     "name": "stderr",
     "output_type": "stream",
     "text": [
      "c:\\Users\\Rohit\\anaconda3\\lib\\site-packages\\keras\\optimizers\\optimizer_v2\\gradient_descent.py:108: UserWarning: The `lr` argument is deprecated, use `learning_rate` instead.\n",
      "  super(SGD, self).__init__(name, **kwargs)\n"
     ]
    }
   ],
   "source": [
    "model.compile(loss='mean_squared_error',\n",
    "              optimizer=keras.optimizers.SGD(lr=1e-3),\n",
    "              metrics=['mae'])"
   ]
  },
  {
   "cell_type": "code",
   "execution_count": 34,
   "metadata": {},
   "outputs": [
    {
     "name": "stdout",
     "output_type": "stream",
     "text": [
      "Epoch 1/20\n",
      "363/363 [==============================] - 2s 3ms/step - loss: 1.8871 - mae: 0.9733 - val_loss: 0.8137 - val_mae: 0.6729\n",
      "Epoch 2/20\n",
      "363/363 [==============================] - 1s 3ms/step - loss: 0.6985 - mae: 0.6181 - val_loss: 0.6738 - val_mae: 0.6108\n",
      "Epoch 3/20\n",
      "363/363 [==============================] - 1s 3ms/step - loss: 0.6362 - mae: 0.5826 - val_loss: 0.6294 - val_mae: 0.5800\n",
      "Epoch 4/20\n",
      "363/363 [==============================] - 1s 2ms/step - loss: 0.5831 - mae: 0.5567 - val_loss: 0.5917 - val_mae: 0.5669\n",
      "Epoch 5/20\n",
      "363/363 [==============================] - 1s 3ms/step - loss: 0.5507 - mae: 0.5389 - val_loss: 0.5662 - val_mae: 0.5514\n",
      "Epoch 6/20\n",
      "363/363 [==============================] - 1s 2ms/step - loss: 0.5220 - mae: 0.5247 - val_loss: 0.5377 - val_mae: 0.5381\n",
      "Epoch 7/20\n",
      "363/363 [==============================] - 1s 3ms/step - loss: 0.5009 - mae: 0.5131 - val_loss: 0.5219 - val_mae: 0.5318\n",
      "Epoch 8/20\n",
      "363/363 [==============================] - 1s 2ms/step - loss: 0.4829 - mae: 0.5035 - val_loss: 0.5094 - val_mae: 0.5240\n",
      "Epoch 9/20\n",
      "363/363 [==============================] - 1s 3ms/step - loss: 0.4675 - mae: 0.4951 - val_loss: 0.4936 - val_mae: 0.5178\n",
      "Epoch 10/20\n",
      "363/363 [==============================] - 1s 2ms/step - loss: 0.4558 - mae: 0.4892 - val_loss: 0.4833 - val_mae: 0.5096\n",
      "Epoch 11/20\n",
      "363/363 [==============================] - 1s 2ms/step - loss: 0.4457 - mae: 0.4824 - val_loss: 0.4782 - val_mae: 0.5114\n",
      "Epoch 12/20\n",
      "363/363 [==============================] - 1s 2ms/step - loss: 0.4373 - mae: 0.4780 - val_loss: 0.4693 - val_mae: 0.5038\n",
      "Epoch 13/20\n",
      "363/363 [==============================] - 1s 3ms/step - loss: 0.4302 - mae: 0.4742 - val_loss: 0.4653 - val_mae: 0.5038\n",
      "Epoch 14/20\n",
      "363/363 [==============================] - 1s 2ms/step - loss: 0.4241 - mae: 0.4700 - val_loss: 0.4602 - val_mae: 0.5018\n",
      "Epoch 15/20\n",
      "363/363 [==============================] - 1s 2ms/step - loss: 0.4187 - mae: 0.4671 - val_loss: 0.4558 - val_mae: 0.4968\n",
      "Epoch 16/20\n",
      "363/363 [==============================] - 1s 2ms/step - loss: 0.4140 - mae: 0.4642 - val_loss: 0.4501 - val_mae: 0.4942\n",
      "Epoch 17/20\n",
      "363/363 [==============================] - 1s 2ms/step - loss: 0.4096 - mae: 0.4614 - val_loss: 0.4495 - val_mae: 0.4904\n",
      "Epoch 18/20\n",
      "363/363 [==============================] - 1s 2ms/step - loss: 0.4064 - mae: 0.4585 - val_loss: 0.4438 - val_mae: 0.4862\n",
      "Epoch 19/20\n",
      "363/363 [==============================] - 1s 2ms/step - loss: 0.4017 - mae: 0.4556 - val_loss: 0.4425 - val_mae: 0.4848\n",
      "Epoch 20/20\n",
      "363/363 [==============================] - 1s 2ms/step - loss: 0.3987 - mae: 0.4536 - val_loss: 0.4424 - val_mae: 0.4873\n"
     ]
    }
   ],
   "source": [
    "model_history=model.fit(X_train,y_train,epochs=20,\n",
    "                       validation_data=(X_valid,y_valid))"
   ]
  },
  {
   "cell_type": "code",
   "execution_count": 35,
   "metadata": {},
   "outputs": [
    {
     "name": "stdout",
     "output_type": "stream",
     "text": [
      "162/162 [==============================] - 0s 2ms/step - loss: 0.3998 - mae: 0.4638\n"
     ]
    }
   ],
   "source": [
    "mae_test=model.evaluate(X_test,y_test)"
   ]
  },
  {
   "cell_type": "code",
   "execution_count": 36,
   "metadata": {},
   "outputs": [
    {
     "data": {
      "text/plain": [
       "{'loss': [1.8870816230773926,\n",
       "  0.6985266208648682,\n",
       "  0.6362205147743225,\n",
       "  0.5830869078636169,\n",
       "  0.5506728887557983,\n",
       "  0.5219724178314209,\n",
       "  0.5008842349052429,\n",
       "  0.48285889625549316,\n",
       "  0.4675367474555969,\n",
       "  0.45575714111328125,\n",
       "  0.44570794701576233,\n",
       "  0.4373014569282532,\n",
       "  0.43016543984413147,\n",
       "  0.4241107106208801,\n",
       "  0.41865482926368713,\n",
       "  0.41403132677078247,\n",
       "  0.4096393287181854,\n",
       "  0.4063640534877777,\n",
       "  0.4016761779785156,\n",
       "  0.398674875497818],\n",
       " 'mae': [0.9733277559280396,\n",
       "  0.6180993914604187,\n",
       "  0.5825698971748352,\n",
       "  0.5567156672477722,\n",
       "  0.5389419794082642,\n",
       "  0.524651288986206,\n",
       "  0.5130792260169983,\n",
       "  0.503461480140686,\n",
       "  0.49505457282066345,\n",
       "  0.48919859528541565,\n",
       "  0.4823799431324005,\n",
       "  0.47803330421447754,\n",
       "  0.47424691915512085,\n",
       "  0.47002115845680237,\n",
       "  0.4670860469341278,\n",
       "  0.46421629190444946,\n",
       "  0.4613955020904541,\n",
       "  0.45853710174560547,\n",
       "  0.4556283950805664,\n",
       "  0.4535866677761078],\n",
       " 'val_loss': [0.8137031197547913,\n",
       "  0.673773467540741,\n",
       "  0.6293588280677795,\n",
       "  0.591749370098114,\n",
       "  0.5662004947662354,\n",
       "  0.5376780033111572,\n",
       "  0.5219154953956604,\n",
       "  0.509431004524231,\n",
       "  0.49358880519866943,\n",
       "  0.4833064079284668,\n",
       "  0.478159099817276,\n",
       "  0.4692906141281128,\n",
       "  0.46526405215263367,\n",
       "  0.46016424894332886,\n",
       "  0.4557803273200989,\n",
       "  0.45013463497161865,\n",
       "  0.4495236277580261,\n",
       "  0.44381600618362427,\n",
       "  0.44251203536987305,\n",
       "  0.44236934185028076],\n",
       " 'val_mae': [0.6728935837745667,\n",
       "  0.6108097434043884,\n",
       "  0.580025851726532,\n",
       "  0.5669434666633606,\n",
       "  0.5513637065887451,\n",
       "  0.5381379127502441,\n",
       "  0.531785786151886,\n",
       "  0.5240071415901184,\n",
       "  0.517846405506134,\n",
       "  0.5096026659011841,\n",
       "  0.5113716125488281,\n",
       "  0.5037583708763123,\n",
       "  0.5037682056427002,\n",
       "  0.5018193125724792,\n",
       "  0.4967769682407379,\n",
       "  0.4941592216491699,\n",
       "  0.490397185087204,\n",
       "  0.4862431585788727,\n",
       "  0.4848349392414093,\n",
       "  0.48727545142173767]}"
      ]
     },
     "execution_count": 36,
     "metadata": {},
     "output_type": "execute_result"
    }
   ],
   "source": [
    "model_history.history"
   ]
  },
  {
   "cell_type": "code",
   "execution_count": 37,
   "metadata": {},
   "outputs": [
    {
     "data": {
      "image/png": "[encoded data removed]",
      "text/plain": [
       "<Figure size 576x360 with 1 Axes>"
      ]
     },
     "metadata": {
      "needs_background": "light"
     },
     "output_type": "display_data"
    }
   ],
   "source": [
    "pd.DataFrame(model_history.history).plot(figsize=(8,5))\n",
    "plt.grid(True)\n",
    "plt.gca().set_ylim(0,1)\n",
    "plt.show()"
   ]
  }
 ],
 "metadata": {
  "kernelspec": {
   "display_name": "base",
   "language": "python",
   "name": "python3"
  },
  "language_info": {
   "codemirror_mode": {
    "name": "ipython",
    "version": 3
   },
   "file_extension": ".py",
   "mimetype": "text/x-python",
   "name": "python",
   "nbconvert_exporter": "python",
   "pygments_lexer": "ipython3",
   "version": "3.9.7"
  },
  "orig_nbformat": 4,
  "vscode": {
   "interpreter": {
    "hash": "e71547eb8e7a90a87d0183098d7ff6e840abf875b38f1fbd362b6ad19fe16c20"
   }
  }
 },
 "nbformat": 4,
 "nbformat_minor": 2
}
