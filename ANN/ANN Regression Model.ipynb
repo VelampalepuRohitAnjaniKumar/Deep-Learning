{
 "cells": [
  {
   "attachments": {},
   "cell_type": "markdown",
   "metadata": {},
   "source": [
    "## Using Sequential API\n"
   ]
  },
  {
   "attachments": {},
   "cell_type": "markdown",
   "metadata": {},
   "source": [
    "### Import Libraries"
   ]
  },
  {
   "cell_type": "code",
   "execution_count": 1,
   "metadata": {},
   "outputs": [],
   "source": [
    "import numpy as np\n",
    "import pandas as pd\n",
    "import matplotlib.pyplot as plt"
   ]
  },
  {
   "cell_type": "code",
   "execution_count": 2,
   "metadata": {},
   "outputs": [],
   "source": [
    "import tensorflow as tf\n",
    "from tensorflow import keras\n",
    "    "
   ]
  },
  {
   "attachments": {},
   "cell_type": "markdown",
   "metadata": {},
   "source": [
    "### Import Dataset"
   ]
  },
  {
   "cell_type": "code",
   "execution_count": 3,
   "metadata": {},
   "outputs": [],
   "source": [
    "from sklearn.datasets import fetch_california_housing\n"
   ]
  },
  {
   "cell_type": "code",
   "execution_count": 4,
   "metadata": {},
   "outputs": [],
   "source": [
    "housing=fetch_california_housing()"
   ]
  },
  {
   "cell_type": "code",
   "execution_count": 5,
   "metadata": {},
   "outputs": [
    {
     "data": {
      "text/plain": [
       "array([[   8.3252    ,   41.        ,    6.98412698, ...,    2.55555556,\n",
       "          37.88      , -122.23      ],\n",
       "       [   8.3014    ,   21.        ,    6.23813708, ...,    2.10984183,\n",
       "          37.86      , -122.22      ],\n",
       "       [   7.2574    ,   52.        ,    8.28813559, ...,    2.80225989,\n",
       "          37.85      , -122.24      ],\n",
       "       ...,\n",
       "       [   1.7       ,   17.        ,    5.20554273, ...,    2.3256351 ,\n",
       "          39.43      , -121.22      ],\n",
       "       [   1.8672    ,   18.        ,    5.32951289, ...,    2.12320917,\n",
       "          39.43      , -121.32      ],\n",
       "       [   2.3886    ,   16.        ,    5.25471698, ...,    2.61698113,\n",
       "          39.37      , -121.24      ]])"
      ]
     },
     "execution_count": 5,
     "metadata": {},
     "output_type": "execute_result"
    }
   ],
   "source": [
    "housing.data"
   ]
  },
  {
   "cell_type": "code",
   "execution_count": 6,
   "metadata": {},
   "outputs": [
    {
     "data": {
      "text/plain": [
       "array([4.526, 3.585, 3.521, ..., 0.923, 0.847, 0.894])"
      ]
     },
     "execution_count": 6,
     "metadata": {},
     "output_type": "execute_result"
    }
   ],
   "source": [
    "housing.target"
   ]
  },
  {
   "cell_type": "code",
   "execution_count": 7,
   "metadata": {},
   "outputs": [
    {
     "data": {
      "text/plain": [
       "'.. _california_housing_dataset:\\n\\nCalifornia Housing dataset\\n--------------------------\\n\\n**Data Set Characteristics:**\\n\\n    :Number of Instances: 20640\\n\\n    :Number of Attributes: 8 numeric, predictive attributes and the target\\n\\n    :Attribute Information:\\n        - MedInc        median income in block group\\n        - HouseAge      median house age in block group\\n        - AveRooms      average number of rooms per household\\n        - AveBedrms     average number of bedrooms per household\\n        - Population    block group population\\n        - AveOccup      average number of household members\\n        - Latitude      block group latitude\\n        - Longitude     block group longitude\\n\\n    :Missing Attribute Values: None\\n\\nThis dataset was obtained from the StatLib repository.\\nhttps://www.dcc.fc.up.pt/~ltorgo/Regression/cal_housing.html\\n\\nThe target variable is the median house value for California districts,\\nexpressed in hundreds of thousands of dollars ($100,000).\\n\\nThis dataset was derived from the 1990 U.S. census, using one row per census\\nblock group. A block group is the smallest geographical unit for which the U.S.\\nCensus Bureau publishes sample data (a block group typically has a population\\nof 600 to 3,000 people).\\n\\nAn household is a group of people residing within a home. Since the average\\nnumber of rooms and bedrooms in this dataset are provided per household, these\\ncolumns may take surpinsingly large values for block groups with few households\\nand many empty houses, such as vacation resorts.\\n\\nIt can be downloaded/loaded using the\\n:func:`sklearn.datasets.fetch_california_housing` function.\\n\\n.. topic:: References\\n\\n    - Pace, R. Kelley and Ronald Barry, Sparse Spatial Autoregressions,\\n      Statistics and Probability Letters, 33 (1997) 291-297\\n'"
      ]
     },
     "execution_count": 7,
     "metadata": {},
     "output_type": "execute_result"
    }
   ],
   "source": [
    "housing.DESCR"
   ]
  },
  {
   "cell_type": "code",
   "execution_count": 8,
   "metadata": {},
   "outputs": [
    {
     "data": {
      "text/plain": [
       "['MedInc',\n",
       " 'HouseAge',\n",
       " 'AveRooms',\n",
       " 'AveBedrms',\n",
       " 'Population',\n",
       " 'AveOccup',\n",
       " 'Latitude',\n",
       " 'Longitude']"
      ]
     },
     "execution_count": 8,
     "metadata": {},
     "output_type": "execute_result"
    }
   ],
   "source": [
    "housing.feature_names"
   ]
  },
  {
   "attachments": {},
   "cell_type": "markdown",
   "metadata": {},
   "source": [
    "### Training Dataset"
   ]
  },
  {
   "cell_type": "code",
   "execution_count": 9,
   "metadata": {},
   "outputs": [],
   "source": [
    "from sklearn.model_selection import train_test_split\n"
   ]
  },
  {
   "cell_type": "code",
   "execution_count": 10,
   "metadata": {},
   "outputs": [],
   "source": [
    "X_train_full,X_test,y_train_full,y_test=train_test_split(housing.data,housing.target,random_state=42)\n",
    "X_train,X_valid,y_train,y_valid=train_test_split(X_train_full,y_train_full,random_state=42)"
   ]
  },
  {
   "cell_type": "code",
   "execution_count": 11,
   "metadata": {},
   "outputs": [
    {
     "data": {
      "text/plain": [
       "(15480, 8)"
      ]
     },
     "execution_count": 11,
     "metadata": {},
     "output_type": "execute_result"
    }
   ],
   "source": [
    "X_train_full.shape"
   ]
  },
  {
   "attachments": {},
   "cell_type": "markdown",
   "metadata": {},
   "source": [
    "### Data Preprocessing"
   ]
  },
  {
   "cell_type": "code",
   "execution_count": 12,
   "metadata": {},
   "outputs": [],
   "source": [
    "from sklearn.preprocessing import StandardScaler\n"
   ]
  },
  {
   "cell_type": "code",
   "execution_count": 13,
   "metadata": {},
   "outputs": [],
   "source": [
    "scaler= StandardScaler()\n",
    "X_train =scaler.fit_transform(X_train)\n",
    "X_valid=scaler.fit_transform(X_valid)\n",
    "X_test = scaler.fit_transform(X_test)"
   ]
  },
  {
   "cell_type": "code",
   "execution_count": 14,
   "metadata": {},
   "outputs": [],
   "source": [
    "# to get random values from the dataset\n",
    "\n",
    "np.random.seed(42)\n",
    "tf.random.set_seed(42)"
   ]
  },
  {
   "cell_type": "code",
   "execution_count": 15,
   "metadata": {},
   "outputs": [
    {
     "data": {
      "text/plain": [
       "(11610, 8)"
      ]
     },
     "execution_count": 15,
     "metadata": {},
     "output_type": "execute_result"
    }
   ],
   "source": [
    "X_train.shape"
   ]
  },
  {
   "attachments": {},
   "cell_type": "markdown",
   "metadata": {},
   "source": [
    "### Model Layers"
   ]
  },
  {
   "cell_type": "code",
   "execution_count": 16,
   "metadata": {},
   "outputs": [],
   "source": [
    "model= keras.models.Sequential([\n",
    "    keras.layers.Dense(30,activation='relu',input_shape=[8]),\n",
    "    keras.layers.Dense(30,activation='relu'),\n",
    "    keras.layers.Dense(1)\n",
    "])"
   ]
  },
  {
   "cell_type": "code",
   "execution_count": 17,
   "metadata": {},
   "outputs": [
    {
     "name": "stdout",
     "output_type": "stream",
     "text": [
      "Model: \"sequential\"\n",
      "_________________________________________________________________\n",
      " Layer (type)                Output Shape              Param #   \n",
      "=================================================================\n",
      " dense (Dense)               (None, 30)                270       \n",
      "                                                                 \n",
      " dense_1 (Dense)             (None, 30)                930       \n",
      "                                                                 \n",
      " dense_2 (Dense)             (None, 1)                 31        \n",
      "                                                                 \n",
      "=================================================================\n",
      "Total params: 1,231\n",
      "Trainable params: 1,231\n",
      "Non-trainable params: 0\n",
      "_________________________________________________________________\n"
     ]
    }
   ],
   "source": [
    "model.summary()"
   ]
  },
  {
   "attachments": {},
   "cell_type": "markdown",
   "metadata": {},
   "source": [
    "### Model Compilation"
   ]
  },
  {
   "cell_type": "code",
   "execution_count": 18,
   "metadata": {},
   "outputs": [
    {
     "name": "stderr",
     "output_type": "stream",
     "text": [
      "c:\\Users\\Rohit\\anaconda3\\lib\\site-packages\\keras\\optimizers\\optimizer_v2\\gradient_descent.py:108: UserWarning: The `lr` argument is deprecated, use `learning_rate` instead.\n",
      "  super(SGD, self).__init__(name, **kwargs)\n"
     ]
    }
   ],
   "source": [
    "model.compile(loss='mean_squared_error',\n",
    "              optimizer=keras.optimizers.SGD(lr=1e-3),\n",
    "              metrics=['mae'])"
   ]
  },
  {
   "cell_type": "code",
   "execution_count": 19,
   "metadata": {},
   "outputs": [
    {
     "name": "stdout",
     "output_type": "stream",
     "text": [
      "Epoch 1/20\n",
      "363/363 [==============================] - 2s 4ms/step - loss: 1.8866 - mae: 0.9900 - val_loss: 0.7414 - val_mae: 0.6560\n",
      "Epoch 2/20\n",
      "363/363 [==============================] - 1s 3ms/step - loss: 0.6577 - mae: 0.6042 - val_loss: 0.6221 - val_mae: 0.5870\n",
      "Epoch 3/20\n",
      "363/363 [==============================] - 1s 3ms/step - loss: 0.5934 - mae: 0.5618 - val_loss: 0.5779 - val_mae: 0.5550\n",
      "Epoch 4/20\n",
      "363/363 [==============================] - 1s 2ms/step - loss: 0.5557 - mae: 0.5398 - val_loss: 0.5572 - val_mae: 0.5496\n",
      "Epoch 5/20\n",
      "363/363 [==============================] - 1s 2ms/step - loss: 0.5272 - mae: 0.5237 - val_loss: 0.5305 - val_mae: 0.5319\n",
      "Epoch 6/20\n",
      "363/363 [==============================] - 1s 2ms/step - loss: 0.5033 - mae: 0.5113 - val_loss: 0.5113 - val_mae: 0.5224\n",
      "Epoch 7/20\n",
      "363/363 [==============================] - 1s 2ms/step - loss: 0.4854 - mae: 0.5010 - val_loss: 0.4974 - val_mae: 0.5151\n",
      "Epoch 8/20\n",
      "363/363 [==============================] - 1s 3ms/step - loss: 0.4709 - mae: 0.4924 - val_loss: 0.4903 - val_mae: 0.5109\n",
      "Epoch 9/20\n",
      "363/363 [==============================] - 1s 2ms/step - loss: 0.4578 - mae: 0.4857 - val_loss: 0.4773 - val_mae: 0.5029\n",
      "Epoch 10/20\n",
      "363/363 [==============================] - 1s 2ms/step - loss: 0.4474 - mae: 0.4797 - val_loss: 0.4696 - val_mae: 0.4988\n",
      "Epoch 11/20\n",
      "363/363 [==============================] - 1s 2ms/step - loss: 0.4393 - mae: 0.4744 - val_loss: 0.4704 - val_mae: 0.5039\n",
      "Epoch 12/20\n",
      "363/363 [==============================] - 1s 2ms/step - loss: 0.4318 - mae: 0.4703 - val_loss: 0.4590 - val_mae: 0.4942\n",
      "Epoch 13/20\n",
      "363/363 [==============================] - 1s 2ms/step - loss: 0.4261 - mae: 0.4674 - val_loss: 0.4587 - val_mae: 0.4963\n",
      "Epoch 14/20\n",
      "363/363 [==============================] - 1s 3ms/step - loss: 0.4202 - mae: 0.4636 - val_loss: 0.4550 - val_mae: 0.4951\n",
      "Epoch 15/20\n",
      "363/363 [==============================] - 1s 2ms/step - loss: 0.4155 - mae: 0.4613 - val_loss: 0.4507 - val_mae: 0.4904\n",
      "Epoch 16/20\n",
      "363/363 [==============================] - 1s 3ms/step - loss: 0.4112 - mae: 0.4591 - val_loss: 0.4458 - val_mae: 0.4876\n",
      "Epoch 17/20\n",
      "363/363 [==============================] - 1s 2ms/step - loss: 0.4077 - mae: 0.4569 - val_loss: 0.4431 - val_mae: 0.4835\n",
      "Epoch 18/20\n",
      "363/363 [==============================] - 1s 2ms/step - loss: 0.4040 - mae: 0.4545 - val_loss: 0.4418 - val_mae: 0.4822\n",
      "Epoch 19/20\n",
      "363/363 [==============================] - 1s 2ms/step - loss: 0.4004 - mae: 0.4521 - val_loss: 0.4388 - val_mae: 0.4807\n",
      "Epoch 20/20\n",
      "363/363 [==============================] - 1s 2ms/step - loss: 0.3980 - mae: 0.4508 - val_loss: 0.4383 - val_mae: 0.4820\n"
     ]
    }
   ],
   "source": [
    "model_history=model.fit(X_train,y_train,epochs=20,\n",
    "                       validation_data=(X_valid,y_valid))"
   ]
  },
  {
   "cell_type": "code",
   "execution_count": 20,
   "metadata": {},
   "outputs": [
    {
     "name": "stdout",
     "output_type": "stream",
     "text": [
      "162/162 [==============================] - 0s 2ms/step - loss: 0.3993 - mae: 0.4595\n"
     ]
    }
   ],
   "source": [
    "mae_test=model.evaluate(X_test,y_test)"
   ]
  },
  {
   "cell_type": "code",
   "execution_count": 21,
   "metadata": {},
   "outputs": [
    {
     "data": {
      "text/plain": [
       "{'loss': [1.8866397142410278,\n",
       "  0.6577126979827881,\n",
       "  0.593418538570404,\n",
       "  0.5557191371917725,\n",
       "  0.5271905064582825,\n",
       "  0.5032975673675537,\n",
       "  0.48535555601119995,\n",
       "  0.47091811895370483,\n",
       "  0.45779937505722046,\n",
       "  0.4474469721317291,\n",
       "  0.4393136501312256,\n",
       "  0.43176087737083435,\n",
       "  0.42605164647102356,\n",
       "  0.42017653584480286,\n",
       "  0.41549983620643616,\n",
       "  0.41116511821746826,\n",
       "  0.4077068567276001,\n",
       "  0.40395283699035645,\n",
       "  0.4004494547843933,\n",
       "  0.39796027541160583],\n",
       " 'mae': [0.9900256991386414,\n",
       "  0.6041509509086609,\n",
       "  0.5618005990982056,\n",
       "  0.5398454070091248,\n",
       "  0.5237293839454651,\n",
       "  0.5112563967704773,\n",
       "  0.5010153651237488,\n",
       "  0.492448091506958,\n",
       "  0.4857262969017029,\n",
       "  0.4797375202178955,\n",
       "  0.4744163453578949,\n",
       "  0.4703480303287506,\n",
       "  0.46740883588790894,\n",
       "  0.46360209584236145,\n",
       "  0.461266428232193,\n",
       "  0.4591343402862549,\n",
       "  0.4568699896335602,\n",
       "  0.4545365273952484,\n",
       "  0.4521064758300781,\n",
       "  0.45083147287368774],\n",
       " 'val_loss': [0.7413728833198547,\n",
       "  0.6220595836639404,\n",
       "  0.5779173374176025,\n",
       "  0.5571869611740112,\n",
       "  0.5305212736129761,\n",
       "  0.5112658739089966,\n",
       "  0.49737149477005005,\n",
       "  0.4903269410133362,\n",
       "  0.4772711396217346,\n",
       "  0.4695732593536377,\n",
       "  0.4703766405582428,\n",
       "  0.4590151607990265,\n",
       "  0.4586655795574188,\n",
       "  0.45500877499580383,\n",
       "  0.45073699951171875,\n",
       "  0.4458054006099701,\n",
       "  0.44312483072280884,\n",
       "  0.44182002544403076,\n",
       "  0.438769668340683,\n",
       "  0.43828630447387695],\n",
       " 'val_mae': [0.6560152769088745,\n",
       "  0.5870209336280823,\n",
       "  0.5550429821014404,\n",
       "  0.5495699644088745,\n",
       "  0.5318752527236938,\n",
       "  0.5223987698554993,\n",
       "  0.5151413083076477,\n",
       "  0.5109214186668396,\n",
       "  0.502907931804657,\n",
       "  0.4988013803958893,\n",
       "  0.5039191842079163,\n",
       "  0.49423903226852417,\n",
       "  0.4962692856788635,\n",
       "  0.4951176047325134,\n",
       "  0.49042701721191406,\n",
       "  0.48755040764808655,\n",
       "  0.4834802448749542,\n",
       "  0.4822426438331604,\n",
       "  0.480660080909729,\n",
       "  0.48197242617607117]}"
      ]
     },
     "execution_count": 21,
     "metadata": {},
     "output_type": "execute_result"
    }
   ],
   "source": [
    "model_history.history"
   ]
  },
  {
   "cell_type": "code",
   "execution_count": 22,
   "metadata": {},
   "outputs": [
    {
     "data": {
      "image/png": "[encoded data removed]",
      "text/plain": [
       "<Figure size 576x360 with 1 Axes>"
      ]
     },
     "metadata": {
      "needs_background": "light"
     },
     "output_type": "display_data"
    }
   ],
   "source": [
    "pd.DataFrame(model_history.history).plot(figsize=(8,5))\n",
    "plt.grid(True)\n",
    "plt.gca().set_ylim(0,1)\n",
    "plt.show()"
   ]
  },
  {
   "cell_type": "code",
   "execution_count": 23,
   "metadata": {},
   "outputs": [],
   "source": [
    "X_new=X_test[:3]"
   ]
  },
  {
   "cell_type": "code",
   "execution_count": 24,
   "metadata": {},
   "outputs": [
    {
     "name": "stdout",
     "output_type": "stream",
     "text": [
      "1/1 [==============================] - 0s 236ms/step\n",
      "[[0.48965693]\n",
      " [1.9347274 ]\n",
      " [3.6413553 ]]\n"
     ]
    }
   ],
   "source": [
    "y_pred=model.predict(X_new)\n",
    "print(y_pred)"
   ]
  },
  {
   "cell_type": "code",
   "execution_count": 25,
   "metadata": {},
   "outputs": [
    {
     "name": "stdout",
     "output_type": "stream",
     "text": [
      "[0.477   0.458   5.00001]\n"
     ]
    }
   ],
   "source": [
    "print(y_test[:3])"
   ]
  },
  {
   "attachments": {},
   "cell_type": "markdown",
   "metadata": {},
   "source": [
    "## Using Functional API"
   ]
  },
  {
   "cell_type": "code",
   "execution_count": 26,
   "metadata": {},
   "outputs": [],
   "source": [
    "del model  # deleting Previous Model"
   ]
  },
  {
   "cell_type": "code",
   "execution_count": 27,
   "metadata": {},
   "outputs": [],
   "source": [
    "keras.backend.clear_session()"
   ]
  },
  {
   "attachments": {},
   "cell_type": "markdown",
   "metadata": {},
   "source": [
    "### Creating Layers"
   ]
  },
  {
   "cell_type": "code",
   "execution_count": 29,
   "metadata": {},
   "outputs": [],
   "source": [
    "input_ =keras.layers.Input(shape=X_train.shape[1:])\n",
    "hidden1=keras.layers.Dense(30,activation='relu')(input_)\n",
    "hidden2=keras.layers.Dense(30,activation='relu')(hidden1)\n",
    "concat=keras.layers.concatenate([input_,hidden2])\n",
    "output=keras.layers.Dense(1)(concat)"
   ]
  },
  {
   "cell_type": "code",
   "execution_count": 30,
   "metadata": {},
   "outputs": [],
   "source": [
    "model= keras.models.Model(inputs=[input_],outputs=[output])\n"
   ]
  },
  {
   "cell_type": "code",
   "execution_count": 32,
   "metadata": {},
   "outputs": [
    {
     "name": "stdout",
     "output_type": "stream",
     "text": [
      "Model: \"model\"\n",
      "__________________________________________________________________________________________________\n",
      " Layer (type)                   Output Shape         Param #     Connected to                     \n",
      "==================================================================================================\n",
      " input_2 (InputLayer)           [(None, 8)]          0           []                               \n",
      "                                                                                                  \n",
      " dense_3 (Dense)                (None, 30)           270         ['input_2[0][0]']                \n",
      "                                                                                                  \n",
      " dense_4 (Dense)                (None, 30)           930         ['dense_3[0][0]']                \n",
      "                                                                                                  \n",
      " concatenate_1 (Concatenate)    (None, 38)           0           ['input_2[0][0]',                \n",
      "                                                                  'dense_4[0][0]']                \n",
      "                                                                                                  \n",
      " dense_5 (Dense)                (None, 1)            39          ['concatenate_1[0][0]']          \n",
      "                                                                                                  \n",
      "==================================================================================================\n",
      "Total params: 1,239\n",
      "Trainable params: 1,239\n",
      "Non-trainable params: 0\n",
      "__________________________________________________________________________________________________\n"
     ]
    }
   ],
   "source": [
    "model.summary()"
   ]
  },
  {
   "attachments": {},
   "cell_type": "markdown",
   "metadata": {},
   "source": [
    "### Compiling Model"
   ]
  },
  {
   "cell_type": "code",
   "execution_count": 33,
   "metadata": {},
   "outputs": [
    {
     "name": "stderr",
     "output_type": "stream",
     "text": [
      "c:\\Users\\Rohit\\anaconda3\\lib\\site-packages\\keras\\optimizers\\optimizer_v2\\gradient_descent.py:108: UserWarning: The `lr` argument is deprecated, use `learning_rate` instead.\n",
      "  super(SGD, self).__init__(name, **kwargs)\n"
     ]
    }
   ],
   "source": [
    "model.compile(loss='mean_squared_error',\n",
    "              optimizer=keras.optimizers.SGD(lr=1e-3),\n",
    "              metrics=['mae'])"
   ]
  },
  {
   "cell_type": "code",
   "execution_count": 38,
   "metadata": {},
   "outputs": [
    {
     "name": "stdout",
     "output_type": "stream",
     "text": [
      "Epoch 1/40\n",
      "363/363 [==============================] - 1s 3ms/step - loss: 0.3965 - mae: 0.4517 - val_loss: 0.4344 - val_mae: 0.4804\n",
      "Epoch 2/40\n",
      "363/363 [==============================] - 1s 2ms/step - loss: 0.3929 - mae: 0.4498 - val_loss: 0.4411 - val_mae: 0.4881\n",
      "Epoch 3/40\n",
      "363/363 [==============================] - 1s 2ms/step - loss: 0.3918 - mae: 0.4489 - val_loss: 0.4333 - val_mae: 0.4798\n",
      "Epoch 4/40\n",
      "363/363 [==============================] - 1s 3ms/step - loss: 0.3875 - mae: 0.4463 - val_loss: 0.4356 - val_mae: 0.4851\n",
      "Epoch 5/40\n",
      "363/363 [==============================] - 1s 2ms/step - loss: 0.3861 - mae: 0.4448 - val_loss: 0.4297 - val_mae: 0.4778\n",
      "Epoch 6/40\n",
      "363/363 [==============================] - 1s 2ms/step - loss: 0.3830 - mae: 0.4436 - val_loss: 0.4320 - val_mae: 0.4770\n",
      "Epoch 7/40\n",
      "363/363 [==============================] - 1s 2ms/step - loss: 0.3830 - mae: 0.4423 - val_loss: 0.4293 - val_mae: 0.4779\n",
      "Epoch 8/40\n",
      "363/363 [==============================] - 1s 3ms/step - loss: 0.3801 - mae: 0.4413 - val_loss: 0.4272 - val_mae: 0.4737\n",
      "Epoch 9/40\n",
      "363/363 [==============================] - 1s 3ms/step - loss: 0.3781 - mae: 0.4400 - val_loss: 0.4259 - val_mae: 0.4735\n",
      "Epoch 10/40\n",
      "363/363 [==============================] - 1s 3ms/step - loss: 0.3766 - mae: 0.4391 - val_loss: 0.4250 - val_mae: 0.4697\n",
      "Epoch 11/40\n",
      "363/363 [==============================] - 1s 3ms/step - loss: 0.3755 - mae: 0.4374 - val_loss: 0.4220 - val_mae: 0.4682\n",
      "Epoch 12/40\n",
      "363/363 [==============================] - 1s 3ms/step - loss: 0.3741 - mae: 0.4367 - val_loss: 0.4283 - val_mae: 0.4706\n",
      "Epoch 13/40\n",
      "363/363 [==============================] - 1s 3ms/step - loss: 0.3757 - mae: 0.4361 - val_loss: 0.4214 - val_mae: 0.4731\n",
      "Epoch 14/40\n",
      "363/363 [==============================] - 1s 3ms/step - loss: 0.3716 - mae: 0.4349 - val_loss: 0.4239 - val_mae: 0.4734\n",
      "Epoch 15/40\n",
      "363/363 [==============================] - 1s 3ms/step - loss: 0.3704 - mae: 0.4338 - val_loss: 0.4200 - val_mae: 0.4700\n",
      "Epoch 16/40\n",
      "363/363 [==============================] - 1s 4ms/step - loss: 0.3688 - mae: 0.4336 - val_loss: 0.4196 - val_mae: 0.4694\n",
      "Epoch 17/40\n",
      "363/363 [==============================] - 1s 4ms/step - loss: 0.3672 - mae: 0.4322 - val_loss: 0.4198 - val_mae: 0.4676\n",
      "Epoch 18/40\n",
      "363/363 [==============================] - 1s 4ms/step - loss: 0.3674 - mae: 0.4314 - val_loss: 0.4193 - val_mae: 0.4660\n",
      "Epoch 19/40\n",
      "363/363 [==============================] - 2s 4ms/step - loss: 0.3652 - mae: 0.4304 - val_loss: 0.4201 - val_mae: 0.4660\n",
      "Epoch 20/40\n",
      "363/363 [==============================] - 1s 4ms/step - loss: 0.3645 - mae: 0.4295 - val_loss: 0.4196 - val_mae: 0.4680\n",
      "Epoch 21/40\n",
      "363/363 [==============================] - 1s 3ms/step - loss: 0.3641 - mae: 0.4290 - val_loss: 0.4186 - val_mae: 0.4700\n",
      "Epoch 22/40\n",
      "363/363 [==============================] - 1s 3ms/step - loss: 0.3623 - mae: 0.4285 - val_loss: 0.4224 - val_mae: 0.4714\n",
      "Epoch 23/40\n",
      "363/363 [==============================] - 1s 3ms/step - loss: 0.3624 - mae: 0.4282 - val_loss: 0.4199 - val_mae: 0.4566\n",
      "Epoch 24/40\n",
      "363/363 [==============================] - 1s 3ms/step - loss: 0.3616 - mae: 0.4272 - val_loss: 0.4232 - val_mae: 0.4660\n",
      "Epoch 25/40\n",
      "363/363 [==============================] - 1s 3ms/step - loss: 0.3620 - mae: 0.4264 - val_loss: 0.4161 - val_mae: 0.4650\n",
      "Epoch 26/40\n",
      "363/363 [==============================] - 1s 3ms/step - loss: 0.3587 - mae: 0.4258 - val_loss: 0.4169 - val_mae: 0.4634\n",
      "Epoch 27/40\n",
      "363/363 [==============================] - 1s 3ms/step - loss: 0.3595 - mae: 0.4256 - val_loss: 0.4154 - val_mae: 0.4562\n",
      "Epoch 28/40\n",
      "363/363 [==============================] - 1s 3ms/step - loss: 0.3587 - mae: 0.4253 - val_loss: 0.4205 - val_mae: 0.4666\n",
      "Epoch 29/40\n",
      "363/363 [==============================] - 1s 3ms/step - loss: 0.3598 - mae: 0.4247 - val_loss: 0.4136 - val_mae: 0.4637\n",
      "Epoch 30/40\n",
      "363/363 [==============================] - 1s 3ms/step - loss: 0.3574 - mae: 0.4247 - val_loss: 0.4215 - val_mae: 0.4627\n",
      "Epoch 31/40\n",
      "363/363 [==============================] - 1s 3ms/step - loss: 0.3613 - mae: 0.4238 - val_loss: 0.4143 - val_mae: 0.4611\n",
      "Epoch 32/40\n",
      "363/363 [==============================] - 1s 2ms/step - loss: 0.3565 - mae: 0.4239 - val_loss: 0.4231 - val_mae: 0.4684\n",
      "Epoch 33/40\n",
      "363/363 [==============================] - 1s 2ms/step - loss: 0.3577 - mae: 0.4224 - val_loss: 0.4123 - val_mae: 0.4618\n",
      "Epoch 34/40\n",
      "363/363 [==============================] - 1s 3ms/step - loss: 0.3547 - mae: 0.4226 - val_loss: 0.4189 - val_mae: 0.4636\n",
      "Epoch 35/40\n",
      "363/363 [==============================] - 1s 3ms/step - loss: 0.3548 - mae: 0.4214 - val_loss: 0.4130 - val_mae: 0.4655\n",
      "Epoch 36/40\n",
      "363/363 [==============================] - 1s 3ms/step - loss: 0.3516 - mae: 0.4208 - val_loss: 0.4127 - val_mae: 0.4607\n",
      "Epoch 37/40\n",
      "363/363 [==============================] - 1s 2ms/step - loss: 0.3512 - mae: 0.4200 - val_loss: 0.4124 - val_mae: 0.4621\n",
      "Epoch 38/40\n",
      "363/363 [==============================] - 1s 2ms/step - loss: 0.3505 - mae: 0.4198 - val_loss: 0.4107 - val_mae: 0.4600\n",
      "Epoch 39/40\n",
      "363/363 [==============================] - 1s 3ms/step - loss: 0.3496 - mae: 0.4193 - val_loss: 0.4114 - val_mae: 0.4598\n",
      "Epoch 40/40\n",
      "363/363 [==============================] - 1s 3ms/step - loss: 0.3489 - mae: 0.4189 - val_loss: 0.4103 - val_mae: 0.4558\n"
     ]
    }
   ],
   "source": [
    "model_history=model.fit(X_train,y_train,epochs=40,\n",
    "                       validation_data=(X_valid,y_valid))"
   ]
  },
  {
   "cell_type": "code",
   "execution_count": 39,
   "metadata": {},
   "outputs": [
    {
     "name": "stdout",
     "output_type": "stream",
     "text": [
      "162/162 [==============================] - 0s 2ms/step - loss: 0.3727 - mae: 0.4390\n"
     ]
    }
   ],
   "source": [
    "mae_test=model.evaluate(X_test,y_test)"
   ]
  },
  {
   "cell_type": "code",
   "execution_count": 40,
   "metadata": {},
   "outputs": [
    {
     "data": {
      "text/plain": [
       "{'loss': [0.3964621126651764,\n",
       "  0.3929463326931,\n",
       "  0.39184334874153137,\n",
       "  0.38750550150871277,\n",
       "  0.38608622550964355,\n",
       "  0.3830401599407196,\n",
       "  0.3830115497112274,\n",
       "  0.3800896108150482,\n",
       "  0.37808486819267273,\n",
       "  0.3765818774700165,\n",
       "  0.37551990151405334,\n",
       "  0.37410417199134827,\n",
       "  0.3756759762763977,\n",
       "  0.3715985119342804,\n",
       "  0.3703954815864563,\n",
       "  0.36876699328422546,\n",
       "  0.36719346046447754,\n",
       "  0.3673640489578247,\n",
       "  0.3652487099170685,\n",
       "  0.3644741475582123,\n",
       "  0.3641212582588196,\n",
       "  0.3623307943344116,\n",
       "  0.36242443323135376,\n",
       "  0.3616354763507843,\n",
       "  0.36204060912132263,\n",
       "  0.35870054364204407,\n",
       "  0.35947611927986145,\n",
       "  0.3587113916873932,\n",
       "  0.35984745621681213,\n",
       "  0.35741010308265686,\n",
       "  0.3612877428531647,\n",
       "  0.35651302337646484,\n",
       "  0.3576534390449524,\n",
       "  0.35472673177719116,\n",
       "  0.3547639548778534,\n",
       "  0.35158857703208923,\n",
       "  0.3511583209037781,\n",
       "  0.3505183756351471,\n",
       "  0.3495592772960663,\n",
       "  0.34885871410369873],\n",
       " 'mae': [0.4516594707965851,\n",
       "  0.44976505637168884,\n",
       "  0.4488804042339325,\n",
       "  0.44625869393348694,\n",
       "  0.4448176622390747,\n",
       "  0.44359806180000305,\n",
       "  0.44229692220687866,\n",
       "  0.4412611424922943,\n",
       "  0.4400396943092346,\n",
       "  0.43906089663505554,\n",
       "  0.4373783767223358,\n",
       "  0.4367024600505829,\n",
       "  0.43612924218177795,\n",
       "  0.4348733425140381,\n",
       "  0.433756560087204,\n",
       "  0.4335704445838928,\n",
       "  0.4322390854358673,\n",
       "  0.4314062297344208,\n",
       "  0.43035978078842163,\n",
       "  0.4294956922531128,\n",
       "  0.42904070019721985,\n",
       "  0.4285183250904083,\n",
       "  0.4281890392303467,\n",
       "  0.4271802008152008,\n",
       "  0.42638105154037476,\n",
       "  0.42582961916923523,\n",
       "  0.42557966709136963,\n",
       "  0.4253389239311218,\n",
       "  0.4246840178966522,\n",
       "  0.4246554374694824,\n",
       "  0.4238094389438629,\n",
       "  0.42393743991851807,\n",
       "  0.4224358797073364,\n",
       "  0.42259231209754944,\n",
       "  0.42140665650367737,\n",
       "  0.42079973220825195,\n",
       "  0.42004433274269104,\n",
       "  0.41976112127304077,\n",
       "  0.41927090287208557,\n",
       "  0.4188503623008728],\n",
       " 'val_loss': [0.4344119131565094,\n",
       "  0.4411192834377289,\n",
       "  0.4332731068134308,\n",
       "  0.4355703890323639,\n",
       "  0.4296789765357971,\n",
       "  0.4320400059223175,\n",
       "  0.42934200167655945,\n",
       "  0.4271591007709503,\n",
       "  0.4258817732334137,\n",
       "  0.4250297546386719,\n",
       "  0.4219745695590973,\n",
       "  0.4282792806625366,\n",
       "  0.42141956090927124,\n",
       "  0.42388519644737244,\n",
       "  0.4199705719947815,\n",
       "  0.41962847113609314,\n",
       "  0.41980674862861633,\n",
       "  0.41929686069488525,\n",
       "  0.4200655221939087,\n",
       "  0.4196447730064392,\n",
       "  0.4186110496520996,\n",
       "  0.42237308621406555,\n",
       "  0.4199037253856659,\n",
       "  0.42316508293151855,\n",
       "  0.41607049107551575,\n",
       "  0.4168727397918701,\n",
       "  0.4153998792171478,\n",
       "  0.42049625515937805,\n",
       "  0.41364312171936035,\n",
       "  0.4214860498905182,\n",
       "  0.4142879843711853,\n",
       "  0.4231237471103668,\n",
       "  0.4123246669769287,\n",
       "  0.4189292788505554,\n",
       "  0.41304469108581543,\n",
       "  0.4127349853515625,\n",
       "  0.4123803377151489,\n",
       "  0.4107454717159271,\n",
       "  0.4114444851875305,\n",
       "  0.4102567136287689],\n",
       " 'val_mae': [0.48040831089019775,\n",
       "  0.4881138205528259,\n",
       "  0.47981584072113037,\n",
       "  0.4850822687149048,\n",
       "  0.47775977849960327,\n",
       "  0.4770415127277374,\n",
       "  0.47793442010879517,\n",
       "  0.4736666679382324,\n",
       "  0.4735199213027954,\n",
       "  0.4696894586086273,\n",
       "  0.4682357907295227,\n",
       "  0.47055521607398987,\n",
       "  0.47308552265167236,\n",
       "  0.47340354323387146,\n",
       "  0.47003886103630066,\n",
       "  0.4694429934024811,\n",
       "  0.46762827038764954,\n",
       "  0.46596989035606384,\n",
       "  0.4659828245639801,\n",
       "  0.4680248498916626,\n",
       "  0.47002673149108887,\n",
       "  0.47138407826423645,\n",
       "  0.4565657079219818,\n",
       "  0.46599799394607544,\n",
       "  0.465044230222702,\n",
       "  0.46335893869400024,\n",
       "  0.45620524883270264,\n",
       "  0.46656253933906555,\n",
       "  0.463701069355011,\n",
       "  0.4626622200012207,\n",
       "  0.4611111879348755,\n",
       "  0.4684004783630371,\n",
       "  0.4617898464202881,\n",
       "  0.4635988175868988,\n",
       "  0.4655067026615143,\n",
       "  0.4607069492340088,\n",
       "  0.46205002069473267,\n",
       "  0.4599752128124237,\n",
       "  0.45980820059776306,\n",
       "  0.45584678649902344]}"
      ]
     },
     "execution_count": 40,
     "metadata": {},
     "output_type": "execute_result"
    }
   ],
   "source": [
    "model_history.history"
   ]
  },
  {
   "cell_type": "code",
   "execution_count": 41,
   "metadata": {},
   "outputs": [
    {
     "data": {
      "image/png": "[encoded data removed]",
      "text/plain": [
       "<Figure size 576x360 with 1 Axes>"
      ]
     },
     "metadata": {
      "needs_background": "light"
     },
     "output_type": "display_data"
    }
   ],
   "source": [
    "pd.DataFrame(model_history.history).plot(figsize=(8,5))\n",
    "plt.grid(True)\n",
    "plt.gca().set_ylim(0,1)\n",
    "plt.show()"
   ]
  },
  {
   "attachments": {},
   "cell_type": "markdown",
   "metadata": {},
   "source": [
    "### Saving & Restoring Model"
   ]
  },
  {
   "cell_type": "code",
   "execution_count": 42,
   "metadata": {},
   "outputs": [],
   "source": [
    "model.save(\"ann_regression_model.h5\")"
   ]
  },
  {
   "cell_type": "code",
   "execution_count": 43,
   "metadata": {},
   "outputs": [
    {
     "data": {
      "text/plain": [
       "'c:\\\\Users\\\\Rohit\\\\OneDrive\\\\Documents\\\\GitHub\\\\Deep-Learning\\\\ANN'"
      ]
     },
     "execution_count": 43,
     "metadata": {},
     "output_type": "execute_result"
    }
   ],
   "source": [
    "%pwd #present working directory "
   ]
  },
  {
   "cell_type": "code",
   "execution_count": 44,
   "metadata": {},
   "outputs": [],
   "source": [
    "del model"
   ]
  },
  {
   "cell_type": "code",
   "execution_count": 45,
   "metadata": {},
   "outputs": [],
   "source": [
    "keras.backend.clear_session()"
   ]
  },
  {
   "cell_type": "code",
   "execution_count": 47,
   "metadata": {},
   "outputs": [],
   "source": [
    "### Restoring Model\n",
    "\n",
    "model=keras.models.load_model(\"ann_regression_model.h5\")"
   ]
  },
  {
   "cell_type": "code",
   "execution_count": 48,
   "metadata": {},
   "outputs": [
    {
     "name": "stdout",
     "output_type": "stream",
     "text": [
      "Model: \"model\"\n",
      "__________________________________________________________________________________________________\n",
      " Layer (type)                   Output Shape         Param #     Connected to                     \n",
      "==================================================================================================\n",
      " input_2 (InputLayer)           [(None, 8)]          0           []                               \n",
      "                                                                                                  \n",
      " dense_3 (Dense)                (None, 30)           270         ['input_2[0][0]']                \n",
      "                                                                                                  \n",
      " dense_4 (Dense)                (None, 30)           930         ['dense_3[0][0]']                \n",
      "                                                                                                  \n",
      " concatenate_1 (Concatenate)    (None, 38)           0           ['input_2[0][0]',                \n",
      "                                                                  'dense_4[0][0]']                \n",
      "                                                                                                  \n",
      " dense_5 (Dense)                (None, 1)            39          ['concatenate_1[0][0]']          \n",
      "                                                                                                  \n",
      "==================================================================================================\n",
      "Total params: 1,239\n",
      "Trainable params: 1,239\n",
      "Non-trainable params: 0\n",
      "__________________________________________________________________________________________________\n"
     ]
    }
   ],
   "source": [
    "model.summary()"
   ]
  },
  {
   "cell_type": "code",
   "execution_count": 49,
   "metadata": {},
   "outputs": [
    {
     "name": "stdout",
     "output_type": "stream",
     "text": [
      "1/1 [==============================] - 0s 72ms/step\n"
     ]
    },
    {
     "data": {
      "text/plain": [
       "array([[0.75884366],\n",
       "       [1.7320397 ],\n",
       "       [4.6950564 ]], dtype=float32)"
      ]
     },
     "execution_count": 49,
     "metadata": {},
     "output_type": "execute_result"
    }
   ],
   "source": [
    "y_pred =model.predict(X_new)\n",
    "y_pred"
   ]
  },
  {
   "attachments": {},
   "cell_type": "markdown",
   "metadata": {},
   "source": [
    "### Using Callbacks during Training"
   ]
  },
  {
   "cell_type": "code",
   "execution_count": 50,
   "metadata": {},
   "outputs": [],
   "source": [
    "keras.backend.clear_session()"
   ]
  },
  {
   "cell_type": "code",
   "execution_count": 51,
   "metadata": {},
   "outputs": [],
   "source": [
    "np.random.seed(42)\n",
    "tf.random.set_seed(42)"
   ]
  },
  {
   "cell_type": "code",
   "execution_count": 53,
   "metadata": {},
   "outputs": [],
   "source": [
    "model= keras.models.Sequential([\n",
    "    keras.layers.Dense(30,activation='relu',input_shape=[8]),\n",
    "    keras.layers.Dense(30,activation='relu'),\n",
    "    keras.layers.Dense(1)\n",
    "])"
   ]
  },
  {
   "cell_type": "code",
   "execution_count": 55,
   "metadata": {},
   "outputs": [
    {
     "name": "stderr",
     "output_type": "stream",
     "text": [
      "c:\\Users\\Rohit\\anaconda3\\lib\\site-packages\\keras\\optimizers\\optimizer_v2\\gradient_descent.py:108: UserWarning: The `lr` argument is deprecated, use `learning_rate` instead.\n",
      "  super(SGD, self).__init__(name, **kwargs)\n"
     ]
    }
   ],
   "source": [
    "model.compile(loss='mse',\n",
    "              optimizer=keras.optimizers.SGD(lr=1e-3),\n",
    "              )"
   ]
  },
  {
   "attachments": {},
   "cell_type": "markdown",
   "metadata": {},
   "source": [
    "#### Creating Callbacks for Epoch"
   ]
  },
  {
   "attachments": {},
   "cell_type": "markdown",
   "metadata": {},
   "source": [
    "*Callbacks allow you to save a model while training AFTER each epoch*"
   ]
  },
  {
   "cell_type": "code",
   "execution_count": 56,
   "metadata": {},
   "outputs": [],
   "source": [
    "checkpoint_cb=keras.callbacks.ModelCheckpoint(\"Model-{epoch:02d}.h5\")"
   ]
  },
  {
   "cell_type": "code",
   "execution_count": 57,
   "metadata": {},
   "outputs": [
    {
     "name": "stdout",
     "output_type": "stream",
     "text": [
      "Epoch 1/10\n",
      "363/363 [==============================] - 1s 2ms/step - loss: 1.8866 - val_loss: 0.7414\n",
      "Epoch 2/10\n",
      "363/363 [==============================] - 1s 2ms/step - loss: 0.6577 - val_loss: 0.6221\n",
      "Epoch 3/10\n",
      "363/363 [==============================] - 1s 2ms/step - loss: 0.5934 - val_loss: 0.5779\n",
      "Epoch 4/10\n",
      "363/363 [==============================] - 1s 2ms/step - loss: 0.5557 - val_loss: 0.5572\n",
      "Epoch 5/10\n",
      "363/363 [==============================] - 0s 1ms/step - loss: 0.5272 - val_loss: 0.5305\n",
      "Epoch 6/10\n",
      "363/363 [==============================] - 1s 2ms/step - loss: 0.5033 - val_loss: 0.5113\n",
      "Epoch 7/10\n",
      "363/363 [==============================] - 1s 2ms/step - loss: 0.4854 - val_loss: 0.4974\n",
      "Epoch 8/10\n",
      "363/363 [==============================] - 1s 2ms/step - loss: 0.4709 - val_loss: 0.4903\n",
      "Epoch 9/10\n",
      "363/363 [==============================] - 1s 2ms/step - loss: 0.4578 - val_loss: 0.4773\n",
      "Epoch 10/10\n",
      "363/363 [==============================] - 1s 2ms/step - loss: 0.4474 - val_loss: 0.4696\n"
     ]
    }
   ],
   "source": [
    "history=model.fit(X_train,y_train,epochs=10,\n",
    "                   validation_data=(X_valid,y_valid),\n",
    "                   callbacks=[checkpoint_cb])"
   ]
  },
  {
   "attachments": {},
   "cell_type": "markdown",
   "metadata": {},
   "source": [
    "*Here We observe 10 models for each epoch*"
   ]
  },
  {
   "cell_type": "code",
   "execution_count": 58,
   "metadata": {},
   "outputs": [],
   "source": [
    "del model\n",
    "keras.backend.clear_session()"
   ]
  },
  {
   "cell_type": "code",
   "execution_count": 59,
   "metadata": {},
   "outputs": [],
   "source": [
    "model=keras.models.load_model(\"Model-05.h5\") # we can use requried model \n"
   ]
  },
  {
   "cell_type": "code",
   "execution_count": 60,
   "metadata": {},
   "outputs": [
    {
     "name": "stdout",
     "output_type": "stream",
     "text": [
      "162/162 [==============================] - 0s 1ms/step - loss: 0.4984\n"
     ]
    }
   ],
   "source": [
    "mse_test=model.evaluate(X_test,y_test)"
   ]
  },
  {
   "attachments": {},
   "cell_type": "markdown",
   "metadata": {},
   "source": [
    "#### Saving Best Model Only"
   ]
  },
  {
   "cell_type": "code",
   "execution_count": 61,
   "metadata": {},
   "outputs": [],
   "source": [
    "del model\n",
    "keras.backend.clear_session()"
   ]
  },
  {
   "cell_type": "code",
   "execution_count": 62,
   "metadata": {},
   "outputs": [],
   "source": [
    "model= keras.models.Sequential([\n",
    "    keras.layers.Dense(30,activation='relu',input_shape=[8]),\n",
    "    keras.layers.Dense(30,activation='relu'),\n",
    "    keras.layers.Dense(1)\n",
    "])"
   ]
  },
  {
   "cell_type": "code",
   "execution_count": 63,
   "metadata": {},
   "outputs": [
    {
     "name": "stderr",
     "output_type": "stream",
     "text": [
      "c:\\Users\\Rohit\\anaconda3\\lib\\site-packages\\keras\\optimizers\\optimizer_v2\\gradient_descent.py:108: UserWarning: The `lr` argument is deprecated, use `learning_rate` instead.\n",
      "  super(SGD, self).__init__(name, **kwargs)\n"
     ]
    }
   ],
   "source": [
    "model.compile(loss='mse',\n",
    "              optimizer=keras.optimizers.SGD(lr=1e-3),\n",
    "              )"
   ]
  },
  {
   "cell_type": "code",
   "execution_count": 65,
   "metadata": {},
   "outputs": [],
   "source": [
    "checkpoint_cb=keras.callbacks.ModelCheckpoint(\"Best_Model.h5\",save_best_only=True)"
   ]
  },
  {
   "cell_type": "code",
   "execution_count": 66,
   "metadata": {},
   "outputs": [
    {
     "name": "stdout",
     "output_type": "stream",
     "text": [
      "Epoch 1/10\n",
      "363/363 [==============================] - 1s 1ms/step - loss: 1.4581 - val_loss: 0.8261\n",
      "Epoch 2/10\n",
      "363/363 [==============================] - 0s 1ms/step - loss: 0.7368 - val_loss: 0.6971\n",
      "Epoch 3/10\n",
      "363/363 [==============================] - 1s 1ms/step - loss: 0.6516 - val_loss: 0.6317\n",
      "Epoch 4/10\n",
      "363/363 [==============================] - 0s 1ms/step - loss: 0.5951 - val_loss: 0.5943\n",
      "Epoch 5/10\n",
      "363/363 [==============================] - 1s 1ms/step - loss: 0.5536 - val_loss: 0.5578\n",
      "Epoch 6/10\n",
      "363/363 [==============================] - 0s 1ms/step - loss: 0.5199 - val_loss: 0.5338\n",
      "Epoch 7/10\n",
      "363/363 [==============================] - 1s 1ms/step - loss: 0.4940 - val_loss: 0.5146\n",
      "Epoch 8/10\n",
      "363/363 [==============================] - 0s 1ms/step - loss: 0.4730 - val_loss: 0.4992\n",
      "Epoch 9/10\n",
      "363/363 [==============================] - 0s 1ms/step - loss: 0.4563 - val_loss: 0.4867\n",
      "Epoch 10/10\n",
      "363/363 [==============================] - 0s 1ms/step - loss: 0.4431 - val_loss: 0.4755\n"
     ]
    }
   ],
   "source": [
    "history=model.fit(X_train,y_train,epochs=10,\n",
    "                   validation_data=(X_valid,y_valid),\n",
    "                   callbacks=[checkpoint_cb])"
   ]
  },
  {
   "cell_type": "code",
   "execution_count": 67,
   "metadata": {},
   "outputs": [
    {
     "name": "stdout",
     "output_type": "stream",
     "text": [
      "162/162 [==============================] - 0s 1ms/step - loss: 0.4305\n"
     ]
    }
   ],
   "source": [
    "model=keras.models.load_model(\"Best_Model.h5\")\n",
    "mse_test=model.evaluate(X_test,y_test)\n"
   ]
  }
 ],
 "metadata": {
  "kernelspec": {
   "display_name": "base",
   "language": "python",
   "name": "python3"
  },
  "language_info": {
   "codemirror_mode": {
    "name": "ipython",
    "version": 3
   },
   "file_extension": ".py",
   "mimetype": "text/x-python",
   "name": "python",
   "nbconvert_exporter": "python",
   "pygments_lexer": "ipython3",
   "version": "3.9.7"
  },
  "orig_nbformat": 4,
  "vscode": {
   "interpreter": {
    "hash": "e71547eb8e7a90a87d0183098d7ff6e840abf875b38f1fbd362b6ad19fe16c20"
   }
  }
 },
 "nbformat": 4,
 "nbformat_minor": 2
}
